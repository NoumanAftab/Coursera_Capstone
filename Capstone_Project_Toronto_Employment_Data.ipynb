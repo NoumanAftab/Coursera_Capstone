{
    "nbformat_minor": 4, 
    "cells": [
        {
            "source": "# Toronto Neighbourhood Employment Data\n## Extraction of Employment Data from wellbeing toronto economic csv file from www.toronto.ca", 
            "cell_type": "markdown", 
            "metadata": {}
        }, 
        {
            "execution_count": 1, 
            "cell_type": "code", 
            "source": "import pandas as pd", 
            "outputs": [], 
            "metadata": {}
        }, 
        {
            "execution_count": 2, 
            "cell_type": "code", 
            "source": "#!conda update -n base -c defaults conda --yes", 
            "outputs": [], 
            "metadata": {}
        }, 
        {
            "execution_count": 3, 
            "cell_type": "code", 
            "source": "#!conda install -c anaconda xlrd --yes", 
            "outputs": [], 
            "metadata": {}
        }, 
        {
            "execution_count": null, 
            "cell_type": "code", 
            "source": "", 
            "outputs": [], 
            "metadata": {}
        }, 
        {
            "execution_count": 4, 
            "cell_type": "code", 
            "source": "WB_df = pd.read_csv(r'wellbeing_toronto_2016_economicsOriginal.csv')\nWB_df.head()", 
            "outputs": [
                {
                    "execution_count": 4, 
                    "output_type": "execute_result", 
                    "data": {
                        "text/plain": "                       Neighbourhood  Neighbourhood Id  Businesses  \\\n0             West Humber-Clairville                 1        2463   \n1  Mount Olive-Silverstone-Jamestown                 2         271   \n2       Thistletown-Beaumond Heights                 3         217   \n3                    Rexdale-Kipling                 4         144   \n4                   Elms-Old Rexdale                 5          67   \n\n   Child Care Spaces  Debt Risk Score  Home Prices  Local Employment  \\\n0                195              719       317508             58271   \n1                 60              687       251119              3244   \n2                 25              718       414216              1311   \n3                 75              721       392271              1178   \n4                 60              692       233832               903   \n\n   Social Assistance Recipients  \n0                          2912  \n1                          6561  \n2                          1276  \n3                          1323  \n4                          1683  ", 
                        "text/html": "<div>\n<style scoped>\n    .dataframe tbody tr th:only-of-type {\n        vertical-align: middle;\n    }\n\n    .dataframe tbody tr th {\n        vertical-align: top;\n    }\n\n    .dataframe thead th {\n        text-align: right;\n    }\n</style>\n<table border=\"1\" class=\"dataframe\">\n  <thead>\n    <tr style=\"text-align: right;\">\n      <th></th>\n      <th>Neighbourhood</th>\n      <th>Neighbourhood Id</th>\n      <th>Businesses</th>\n      <th>Child Care Spaces</th>\n      <th>Debt Risk Score</th>\n      <th>Home Prices</th>\n      <th>Local Employment</th>\n      <th>Social Assistance Recipients</th>\n    </tr>\n  </thead>\n  <tbody>\n    <tr>\n      <td>0</td>\n      <td>West Humber-Clairville</td>\n      <td>1</td>\n      <td>2463</td>\n      <td>195</td>\n      <td>719</td>\n      <td>317508</td>\n      <td>58271</td>\n      <td>2912</td>\n    </tr>\n    <tr>\n      <td>1</td>\n      <td>Mount Olive-Silverstone-Jamestown</td>\n      <td>2</td>\n      <td>271</td>\n      <td>60</td>\n      <td>687</td>\n      <td>251119</td>\n      <td>3244</td>\n      <td>6561</td>\n    </tr>\n    <tr>\n      <td>2</td>\n      <td>Thistletown-Beaumond Heights</td>\n      <td>3</td>\n      <td>217</td>\n      <td>25</td>\n      <td>718</td>\n      <td>414216</td>\n      <td>1311</td>\n      <td>1276</td>\n    </tr>\n    <tr>\n      <td>3</td>\n      <td>Rexdale-Kipling</td>\n      <td>4</td>\n      <td>144</td>\n      <td>75</td>\n      <td>721</td>\n      <td>392271</td>\n      <td>1178</td>\n      <td>1323</td>\n    </tr>\n    <tr>\n      <td>4</td>\n      <td>Elms-Old Rexdale</td>\n      <td>5</td>\n      <td>67</td>\n      <td>60</td>\n      <td>692</td>\n      <td>233832</td>\n      <td>903</td>\n      <td>1683</td>\n    </tr>\n  </tbody>\n</table>\n</div>"
                    }, 
                    "metadata": {}
                }
            ], 
            "metadata": {}
        }, 
        {
            "execution_count": 5, 
            "cell_type": "code", 
            "source": "# Spliting the Neighbourhood names by '-' & '/' to remove old names or alternate names of neighbourhoods\n\nlt=[]\nk = WB_df['Neighbourhood'].str.split('-|/')\n\nk[:][0]\nfor itr,v in enumerate(k):\n    #print(itr)\n    #print(v[0])\n    lt.append(v[0].strip())\n   \n    #k.str.replace('West', '')\n\nEMP=pd.DataFrame(lt, columns=['Neighbourhood'])\nEMP.head()", 
            "outputs": [
                {
                    "execution_count": 5, 
                    "output_type": "execute_result", 
                    "data": {
                        "text/plain": "  Neighbourhood\n0   West Humber\n1   Mount Olive\n2   Thistletown\n3       Rexdale\n4          Elms", 
                        "text/html": "<div>\n<style scoped>\n    .dataframe tbody tr th:only-of-type {\n        vertical-align: middle;\n    }\n\n    .dataframe tbody tr th {\n        vertical-align: top;\n    }\n\n    .dataframe thead th {\n        text-align: right;\n    }\n</style>\n<table border=\"1\" class=\"dataframe\">\n  <thead>\n    <tr style=\"text-align: right;\">\n      <th></th>\n      <th>Neighbourhood</th>\n    </tr>\n  </thead>\n  <tbody>\n    <tr>\n      <td>0</td>\n      <td>West Humber</td>\n    </tr>\n    <tr>\n      <td>1</td>\n      <td>Mount Olive</td>\n    </tr>\n    <tr>\n      <td>2</td>\n      <td>Thistletown</td>\n    </tr>\n    <tr>\n      <td>3</td>\n      <td>Rexdale</td>\n    </tr>\n    <tr>\n      <td>4</td>\n      <td>Elms</td>\n    </tr>\n  </tbody>\n</table>\n</div>"
                    }, 
                    "metadata": {}
                }
            ], 
            "metadata": {}
        }, 
        {
            "execution_count": 6, 
            "cell_type": "code", 
            "source": "# Following shows that there are 140 neighbourhoods in toronto\nEMP.shape", 
            "outputs": [
                {
                    "execution_count": 6, 
                    "output_type": "execute_result", 
                    "data": {
                        "text/plain": "(140, 1)"
                    }, 
                    "metadata": {}
                }
            ], 
            "metadata": {}
        }, 
        {
            "execution_count": 7, 
            "cell_type": "code", 
            "source": "# copying the data of employment converting the name of column\nEMP['Employment'] = WB_df['Local Employment']", 
            "outputs": [], 
            "metadata": {}
        }, 
        {
            "execution_count": 8, 
            "cell_type": "code", 
            "source": "EMP.head()", 
            "outputs": [
                {
                    "execution_count": 8, 
                    "output_type": "execute_result", 
                    "data": {
                        "text/plain": "  Neighbourhood  Employment\n0   West Humber       58271\n1   Mount Olive        3244\n2   Thistletown        1311\n3       Rexdale        1178\n4          Elms         903", 
                        "text/html": "<div>\n<style scoped>\n    .dataframe tbody tr th:only-of-type {\n        vertical-align: middle;\n    }\n\n    .dataframe tbody tr th {\n        vertical-align: top;\n    }\n\n    .dataframe thead th {\n        text-align: right;\n    }\n</style>\n<table border=\"1\" class=\"dataframe\">\n  <thead>\n    <tr style=\"text-align: right;\">\n      <th></th>\n      <th>Neighbourhood</th>\n      <th>Employment</th>\n    </tr>\n  </thead>\n  <tbody>\n    <tr>\n      <td>0</td>\n      <td>West Humber</td>\n      <td>58271</td>\n    </tr>\n    <tr>\n      <td>1</td>\n      <td>Mount Olive</td>\n      <td>3244</td>\n    </tr>\n    <tr>\n      <td>2</td>\n      <td>Thistletown</td>\n      <td>1311</td>\n    </tr>\n    <tr>\n      <td>3</td>\n      <td>Rexdale</td>\n      <td>1178</td>\n    </tr>\n    <tr>\n      <td>4</td>\n      <td>Elms</td>\n      <td>903</td>\n    </tr>\n  </tbody>\n</table>\n</div>"
                    }, 
                    "metadata": {}
                }
            ], 
            "metadata": {}
        }, 
        {
            "source": "### The open data of Employment in Toronto available is upto 2016 where other data in this project is upto date, therefore for consistancy, employment in each neighbourhood is approximated with available employment growth rate\n\n### The growth rate of Employment in Toronto from the year 2016 till present(2019) is 9.0 approx. \n\n### For year 2016 employment growth rate ---> 1.2 %\n### For year 2017 employment growth rate ---> 3.9 %\n### For year 2018 employment growth rate ---> 1.8 %\n### Therefore approximating the employment, for consistancy it is converted", 
            "cell_type": "markdown", 
            "metadata": {}
        }, 
        {
            "execution_count": 9, 
            "cell_type": "code", 
            "source": "### Rounding off to two digits\nEMP['Employment'] = round(EMP['Employment']+(EMP['Employment']*6.9/100), 2)\nEMP", 
            "outputs": [
                {
                    "execution_count": 9, 
                    "output_type": "execute_result", 
                    "data": {
                        "text/plain": "           Neighbourhood  Employment\n0            West Humber    62291.70\n1            Mount Olive     3467.84\n2            Thistletown     1401.46\n3                Rexdale     1259.28\n4                   Elms      965.31\n..                   ...         ...\n135            West Hill     4810.50\n136               Woburn    17307.11\n137        Eglinton East     2513.22\n138  Scarborough Village     1978.72\n139            Guildwood      987.76\n\n[140 rows x 2 columns]", 
                        "text/html": "<div>\n<style scoped>\n    .dataframe tbody tr th:only-of-type {\n        vertical-align: middle;\n    }\n\n    .dataframe tbody tr th {\n        vertical-align: top;\n    }\n\n    .dataframe thead th {\n        text-align: right;\n    }\n</style>\n<table border=\"1\" class=\"dataframe\">\n  <thead>\n    <tr style=\"text-align: right;\">\n      <th></th>\n      <th>Neighbourhood</th>\n      <th>Employment</th>\n    </tr>\n  </thead>\n  <tbody>\n    <tr>\n      <td>0</td>\n      <td>West Humber</td>\n      <td>62291.70</td>\n    </tr>\n    <tr>\n      <td>1</td>\n      <td>Mount Olive</td>\n      <td>3467.84</td>\n    </tr>\n    <tr>\n      <td>2</td>\n      <td>Thistletown</td>\n      <td>1401.46</td>\n    </tr>\n    <tr>\n      <td>3</td>\n      <td>Rexdale</td>\n      <td>1259.28</td>\n    </tr>\n    <tr>\n      <td>4</td>\n      <td>Elms</td>\n      <td>965.31</td>\n    </tr>\n    <tr>\n      <td>...</td>\n      <td>...</td>\n      <td>...</td>\n    </tr>\n    <tr>\n      <td>135</td>\n      <td>West Hill</td>\n      <td>4810.50</td>\n    </tr>\n    <tr>\n      <td>136</td>\n      <td>Woburn</td>\n      <td>17307.11</td>\n    </tr>\n    <tr>\n      <td>137</td>\n      <td>Eglinton East</td>\n      <td>2513.22</td>\n    </tr>\n    <tr>\n      <td>138</td>\n      <td>Scarborough Village</td>\n      <td>1978.72</td>\n    </tr>\n    <tr>\n      <td>139</td>\n      <td>Guildwood</td>\n      <td>987.76</td>\n    </tr>\n  </tbody>\n</table>\n<p>140 rows \u00d7 2 columns</p>\n</div>"
                    }, 
                    "metadata": {}
                }
            ], 
            "metadata": {}
        }, 
        {
            "execution_count": 10, 
            "cell_type": "code", 
            "source": "EMP['Neighbourhood'] = EMP['Neighbourhood'].str.replace('The', '')\nEMP['Neighbourhood'] = EMP['Neighbourhood'].str.replace('North', '')\nEMP['Neighbourhood'] = EMP['Neighbourhood'].str.replace('South', '')\nEMP['Neighbourhood'] = EMP['Neighbourhood'].str.replace('East', '')\nEMP['Neighbourhood'] = EMP['Neighbourhood'].str.replace('West', '')\nEMP['Neighbourhood'] = [tmp.strip() for tmp in EMP['Neighbourhood']]", 
            "outputs": [], 
            "metadata": {}
        }, 
        {
            "execution_count": 12, 
            "cell_type": "code", 
            "source": "EMP.head()", 
            "outputs": [
                {
                    "execution_count": 12, 
                    "output_type": "execute_result", 
                    "data": {
                        "text/plain": "  Neighbourhood  Employment\n0        Humber    62291.70\n1   Mount Olive     3467.84\n2   Thistletown     1401.46\n3       Rexdale     1259.28\n4          Elms      965.31", 
                        "text/html": "<div>\n<style scoped>\n    .dataframe tbody tr th:only-of-type {\n        vertical-align: middle;\n    }\n\n    .dataframe tbody tr th {\n        vertical-align: top;\n    }\n\n    .dataframe thead th {\n        text-align: right;\n    }\n</style>\n<table border=\"1\" class=\"dataframe\">\n  <thead>\n    <tr style=\"text-align: right;\">\n      <th></th>\n      <th>Neighbourhood</th>\n      <th>Employment</th>\n    </tr>\n  </thead>\n  <tbody>\n    <tr>\n      <td>0</td>\n      <td>Humber</td>\n      <td>62291.70</td>\n    </tr>\n    <tr>\n      <td>1</td>\n      <td>Mount Olive</td>\n      <td>3467.84</td>\n    </tr>\n    <tr>\n      <td>2</td>\n      <td>Thistletown</td>\n      <td>1401.46</td>\n    </tr>\n    <tr>\n      <td>3</td>\n      <td>Rexdale</td>\n      <td>1259.28</td>\n    </tr>\n    <tr>\n      <td>4</td>\n      <td>Elms</td>\n      <td>965.31</td>\n    </tr>\n  </tbody>\n</table>\n</div>"
                    }, 
                    "metadata": {}
                }
            ], 
            "metadata": {}
        }, 
        {
            "execution_count": 13, 
            "cell_type": "code", 
            "source": "EMP['Employment'].dtype", 
            "outputs": [
                {
                    "execution_count": 13, 
                    "output_type": "execute_result", 
                    "data": {
                        "text/plain": "dtype('float64')"
                    }, 
                    "metadata": {}
                }
            ], 
            "metadata": {}
        }, 
        {
            "execution_count": 14, 
            "cell_type": "code", 
            "source": "EMP.to_csv('CS_EmploymentData.csv', index=False)", 
            "outputs": [], 
            "metadata": {}
        }, 
        {
            "execution_count": null, 
            "cell_type": "code", 
            "source": "", 
            "outputs": [], 
            "metadata": {}
        }, 
        {
            "execution_count": null, 
            "cell_type": "code", 
            "source": "", 
            "outputs": [], 
            "metadata": {}
        }
    ], 
    "nbformat": 4, 
    "metadata": {
        "kernelspec": {
            "display_name": "Python", 
            "name": "conda-env-python-py", 
            "language": "python"
        }, 
        "language_info": {
            "mimetype": "text/x-python", 
            "nbconvert_exporter": "python", 
            "version": "3.6.7", 
            "name": "python", 
            "file_extension": ".py", 
            "pygments_lexer": "ipython3", 
            "codemirror_mode": {
                "version": 3, 
                "name": "ipython"
            }
        }
    }
}