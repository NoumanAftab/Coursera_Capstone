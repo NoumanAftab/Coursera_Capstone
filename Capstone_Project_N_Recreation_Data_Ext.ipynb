{
    "nbformat_minor": 4, 
    "cells": [
        {
            "source": "# Toronto Neighbourhood Restaurants AND Universities, Colleges, Malls & Recreational Installations", 
            "cell_type": "markdown", 
            "metadata": {}
        }, 
        {
            "execution_count": 159, 
            "cell_type": "code", 
            "source": "import pandas as pd", 
            "outputs": [], 
            "metadata": {}
        }, 
        {
            "execution_count": 160, 
            "cell_type": "code", 
            "source": "#!conda install --yes -c conda-forge geopy", 
            "outputs": [], 
            "metadata": {}
        }, 
        {
            "execution_count": 162, 
            "cell_type": "code", 
            "source": "import requests\nimport json\nfrom pandas.io.json import json_normalize # tranform JSON file into a pandas dataframe", 
            "outputs": [], 
            "metadata": {}
        }, 
        {
            "execution_count": 163, 
            "cell_type": "code", 
            "source": "LLD_df = pd.read_csv('CS_combinedNeighbourhoodLatLongData.csv')", 
            "outputs": [], 
            "metadata": {}
        }, 
        {
            "execution_count": 164, 
            "cell_type": "code", 
            "source": "LLD_df", 
            "outputs": [
                {
                    "execution_count": 164, 
                    "output_type": "execute_result", 
                    "data": {
                        "text/plain": "              Borough     Neighbourhood   Latitude  Longitude\n0          North York         Parkwoods  43.753259 -79.329656\n1          North York  Victoria Village  43.725882 -79.315572\n2    Downtown Toronto      Harbourfront  43.654260 -79.360636\n3    Downtown Toronto       Regent Park  43.654260 -79.360636\n4          North York  Lawrence Heights  43.718518 -79.464763\n..                ...               ...        ...        ...\n206         Etobicoke     Kingsway Park  43.628841 -79.520999\n207         Etobicoke         Mimico NW  43.628841 -79.520999\n208         Etobicoke         Queensway  43.628841 -79.520999\n209         Etobicoke        Royal York  43.628841 -79.520999\n210         Etobicoke          of Bloor  43.628841 -79.520999\n\n[211 rows x 4 columns]", 
                        "text/html": "<div>\n<style scoped>\n    .dataframe tbody tr th:only-of-type {\n        vertical-align: middle;\n    }\n\n    .dataframe tbody tr th {\n        vertical-align: top;\n    }\n\n    .dataframe thead th {\n        text-align: right;\n    }\n</style>\n<table border=\"1\" class=\"dataframe\">\n  <thead>\n    <tr style=\"text-align: right;\">\n      <th></th>\n      <th>Borough</th>\n      <th>Neighbourhood</th>\n      <th>Latitude</th>\n      <th>Longitude</th>\n    </tr>\n  </thead>\n  <tbody>\n    <tr>\n      <td>0</td>\n      <td>North York</td>\n      <td>Parkwoods</td>\n      <td>43.753259</td>\n      <td>-79.329656</td>\n    </tr>\n    <tr>\n      <td>1</td>\n      <td>North York</td>\n      <td>Victoria Village</td>\n      <td>43.725882</td>\n      <td>-79.315572</td>\n    </tr>\n    <tr>\n      <td>2</td>\n      <td>Downtown Toronto</td>\n      <td>Harbourfront</td>\n      <td>43.654260</td>\n      <td>-79.360636</td>\n    </tr>\n    <tr>\n      <td>3</td>\n      <td>Downtown Toronto</td>\n      <td>Regent Park</td>\n      <td>43.654260</td>\n      <td>-79.360636</td>\n    </tr>\n    <tr>\n      <td>4</td>\n      <td>North York</td>\n      <td>Lawrence Heights</td>\n      <td>43.718518</td>\n      <td>-79.464763</td>\n    </tr>\n    <tr>\n      <td>...</td>\n      <td>...</td>\n      <td>...</td>\n      <td>...</td>\n      <td>...</td>\n    </tr>\n    <tr>\n      <td>206</td>\n      <td>Etobicoke</td>\n      <td>Kingsway Park</td>\n      <td>43.628841</td>\n      <td>-79.520999</td>\n    </tr>\n    <tr>\n      <td>207</td>\n      <td>Etobicoke</td>\n      <td>Mimico NW</td>\n      <td>43.628841</td>\n      <td>-79.520999</td>\n    </tr>\n    <tr>\n      <td>208</td>\n      <td>Etobicoke</td>\n      <td>Queensway</td>\n      <td>43.628841</td>\n      <td>-79.520999</td>\n    </tr>\n    <tr>\n      <td>209</td>\n      <td>Etobicoke</td>\n      <td>Royal York</td>\n      <td>43.628841</td>\n      <td>-79.520999</td>\n    </tr>\n    <tr>\n      <td>210</td>\n      <td>Etobicoke</td>\n      <td>of Bloor</td>\n      <td>43.628841</td>\n      <td>-79.520999</td>\n    </tr>\n  </tbody>\n</table>\n<p>211 rows \u00d7 4 columns</p>\n</div>"
                    }, 
                    "metadata": {}
                }
            ], 
            "metadata": {}
        }, 
        {
            "execution_count": 165, 
            "cell_type": "code", 
            "source": "# function that extracts the category of the venue\ndef get_category_type(row):\n    try:\n        categories_list = row['categories']\n    except:\n        categories_list = row['venue.categories']\n                \n    if len(categories_list) == 0:\n        return None\n    else:\n        return categories_list[0]['name']", 
            "outputs": [], 
            "metadata": {}
        }, 
        {
            "execution_count": 2, 
            "cell_type": "code", 
            "source": "CLIENT_ID = 'your own client id' \nCLIENT_SECRET = 'your secret'\nVERSION = '20180605'\n\nprint('Your credentails:')\nprint('CLIENT_ID: ' + CLIENT_ID)\nprint('CLIENT_SECRET:' + CLIENT_SECRET)\npos=1\nprint(LLD_df.loc[pos,'Neighbourhood'])\nneighborhood_name = LLD_df.loc[pos, 'Neighbourhood'] # neighborhood name\nneighborhood_latitude = LLD_df.loc[pos, 'Latitude'] # neighborhood latitude value\nneighborhood_longitude = LLD_df.loc[pos, 'Longitude'] # neighborhood longitude value\nprint('Latitude and longitude values of \\'{}\\' are {}, {}.'.format(neighborhood_name, neighborhood_latitude, neighborhood_longitude))", 
            "outputs": [
                {
                    "output_type": "stream", 
                    "name": "stdout", 
                    "text": "Your credentails:\nCLIENT_ID: your own client id\nCLIENT_SECRET:your secret\n"
                }, 
                {
                    "ename": "NameError", 
                    "evalue": "name 'LLD_df' is not defined", 
                    "traceback": [
                        "\u001b[0;31m---------------------------------------------------------------------------\u001b[0m", 
                        "\u001b[0;31mNameError\u001b[0m                                 Traceback (most recent call last)", 
                        "\u001b[0;32m<ipython-input-2-d7574e2f27ec>\u001b[0m in \u001b[0;36m<module>\u001b[0;34m\u001b[0m\n\u001b[1;32m      7\u001b[0m \u001b[0mprint\u001b[0m\u001b[0;34m(\u001b[0m\u001b[0;34m'CLIENT_SECRET:'\u001b[0m \u001b[0;34m+\u001b[0m \u001b[0mCLIENT_SECRET\u001b[0m\u001b[0;34m)\u001b[0m\u001b[0;34m\u001b[0m\u001b[0;34m\u001b[0m\u001b[0m\n\u001b[1;32m      8\u001b[0m \u001b[0mpos\u001b[0m\u001b[0;34m=\u001b[0m\u001b[0;36m1\u001b[0m\u001b[0;34m\u001b[0m\u001b[0;34m\u001b[0m\u001b[0m\n\u001b[0;32m----> 9\u001b[0;31m \u001b[0mprint\u001b[0m\u001b[0;34m(\u001b[0m\u001b[0mLLD_df\u001b[0m\u001b[0;34m.\u001b[0m\u001b[0mloc\u001b[0m\u001b[0;34m[\u001b[0m\u001b[0mpos\u001b[0m\u001b[0;34m,\u001b[0m\u001b[0;34m'Neighbourhood'\u001b[0m\u001b[0;34m]\u001b[0m\u001b[0;34m)\u001b[0m\u001b[0;34m\u001b[0m\u001b[0;34m\u001b[0m\u001b[0m\n\u001b[0m\u001b[1;32m     10\u001b[0m \u001b[0mneighborhood_name\u001b[0m \u001b[0;34m=\u001b[0m \u001b[0mLLD_df\u001b[0m\u001b[0;34m.\u001b[0m\u001b[0mloc\u001b[0m\u001b[0;34m[\u001b[0m\u001b[0mpos\u001b[0m\u001b[0;34m,\u001b[0m \u001b[0;34m'Neighbourhood'\u001b[0m\u001b[0;34m]\u001b[0m \u001b[0;31m# neighborhood name\u001b[0m\u001b[0;34m\u001b[0m\u001b[0;34m\u001b[0m\u001b[0m\n\u001b[1;32m     11\u001b[0m \u001b[0mneighborhood_latitude\u001b[0m \u001b[0;34m=\u001b[0m \u001b[0mLLD_df\u001b[0m\u001b[0;34m.\u001b[0m\u001b[0mloc\u001b[0m\u001b[0;34m[\u001b[0m\u001b[0mpos\u001b[0m\u001b[0;34m,\u001b[0m \u001b[0;34m'Latitude'\u001b[0m\u001b[0;34m]\u001b[0m \u001b[0;31m# neighborhood latitude value\u001b[0m\u001b[0;34m\u001b[0m\u001b[0;34m\u001b[0m\u001b[0m\n", 
                        "\u001b[0;31mNameError\u001b[0m: name 'LLD_df' is not defined"
                    ], 
                    "output_type": "error"
                }
            ], 
            "metadata": {}
        }, 
        {
            "execution_count": null, 
            "cell_type": "code", 
            "source": "", 
            "outputs": [], 
            "metadata": {}
        }, 
        {
            "execution_count": 167, 
            "cell_type": "code", 
            "source": "limit = 100 # top 100 venues in given Neighbourhood within radius(500)\nradius = 500 # radius is in meters\nurl = 'https://api.foursquare.com/v2/venues/explore?&client_id={}&client_secret={}&v={}&ll={},{}&radius={}&limit={}'.format(CLIENT_ID, CLIENT_SECRET, VERSION, neighborhood_latitude,neighborhood_longitude, radius, limit)\nurl", 
            "outputs": [
                {
                    "execution_count": 167, 
                    "output_type": "execute_result", 
                    "data": {
                        "text/plain": "'https://api.foursquare.com/v2/venues/explore?&client_id=ZBJYO13FKGEOV24ZQTABW3C4Q2ZUE1MYTOTRABYH3FQWHHLW&client_secret=PTA1YB2SNTJD5K1LJ11FB3VWEW1RAXT1GHSD0BMAHPCLQDYV&v=20180605&ll=43.7258823,-79.31557159999998&radius=500&limit=100'"
                    }, 
                    "metadata": {}
                }
            ], 
            "metadata": {}
        }, 
        {
            "execution_count": 168, 
            "cell_type": "code", 
            "source": "results = requests.get(url).json()\n#results", 
            "outputs": [], 
            "metadata": {}
        }, 
        {
            "execution_count": 169, 
            "cell_type": "code", 
            "source": "venues = results['response']['groups'][0]['items']\n#print(venues)\n\nnearby_venues = json_normalize(venues) # flatten JSON into dataframe\nnearby_venues.head(3)", 
            "outputs": [
                {
                    "execution_count": 169, 
                    "output_type": "execute_result", 
                    "data": {
                        "text/plain": "                       referralId  reasons.count  \\\n0  e-0-4c633acb86b6be9a61268e34-0              0   \n1  e-0-4bbe904a85fbb713420d7167-1              0   \n2  e-0-4f3ecce6e4b0587016b6f30d-2              0   \n\n                                       reasons.items  \\\n0  [{'summary': 'This spot is popular', 'type': '...   \n1  [{'summary': 'This spot is popular', 'type': '...   \n2  [{'summary': 'This spot is popular', 'type': '...   \n\n                   venue.id              venue.name  venue.location.lat  \\\n0  4c633acb86b6be9a61268e34  Victoria Village Arena           43.723481   \n1  4bbe904a85fbb713420d7167             Tim Hortons           43.725517   \n2  4f3ecce6e4b0587016b6f30d               Portugril           43.725819   \n\n   venue.location.lng                      venue.location.labeledLatLngs  \\\n0          -79.315635  [{'label': 'display', 'lat': 43.72348055545508...   \n1          -79.313103  [{'label': 'display', 'lat': 43.72551663171475...   \n2          -79.312785  [{'label': 'display', 'lat': 43.72581876267242...   \n\n   venue.location.distance venue.location.cc venue.location.country  \\\n0                      267                CA                 Canada   \n1                      202                CA                 Canada   \n2                      224                CA                 Canada   \n\n                     venue.location.formattedAddress  \\\n0                                           [Canada]   \n1  [1733 Eglinton Ave East (at Bermondsey Rd), To...   \n2  [1733 Eglinton Avenue East (Bermondsey), Toron...   \n\n                                    venue.categories  venue.photos.count  \\\n0  [{'id': '4bf58dd8d48988d185941735', 'name': 'H...                   0   \n1  [{'id': '4bf58dd8d48988d1e0931735', 'name': 'C...                   0   \n2  [{'id': '4def73e84765ae376e57713a', 'name': 'P...                   0   \n\n  venue.photos.groups     venue.location.address venue.location.crossStreet  \\\n0                  []                        NaN                        NaN   \n1                  []     1733 Eglinton Ave East           at Bermondsey Rd   \n2                  []  1733 Eglinton Avenue East                 Bermondsey   \n\n  venue.location.postalCode venue.location.city venue.location.state  \n0                       NaN                 NaN                  NaN  \n1                   M4A 1J8             Toronto                   ON  \n2                       NaN             Toronto                   ON  ", 
                        "text/html": "<div>\n<style scoped>\n    .dataframe tbody tr th:only-of-type {\n        vertical-align: middle;\n    }\n\n    .dataframe tbody tr th {\n        vertical-align: top;\n    }\n\n    .dataframe thead th {\n        text-align: right;\n    }\n</style>\n<table border=\"1\" class=\"dataframe\">\n  <thead>\n    <tr style=\"text-align: right;\">\n      <th></th>\n      <th>referralId</th>\n      <th>reasons.count</th>\n      <th>reasons.items</th>\n      <th>venue.id</th>\n      <th>venue.name</th>\n      <th>venue.location.lat</th>\n      <th>venue.location.lng</th>\n      <th>venue.location.labeledLatLngs</th>\n      <th>venue.location.distance</th>\n      <th>venue.location.cc</th>\n      <th>venue.location.country</th>\n      <th>venue.location.formattedAddress</th>\n      <th>venue.categories</th>\n      <th>venue.photos.count</th>\n      <th>venue.photos.groups</th>\n      <th>venue.location.address</th>\n      <th>venue.location.crossStreet</th>\n      <th>venue.location.postalCode</th>\n      <th>venue.location.city</th>\n      <th>venue.location.state</th>\n    </tr>\n  </thead>\n  <tbody>\n    <tr>\n      <td>0</td>\n      <td>e-0-4c633acb86b6be9a61268e34-0</td>\n      <td>0</td>\n      <td>[{'summary': 'This spot is popular', 'type': '...</td>\n      <td>4c633acb86b6be9a61268e34</td>\n      <td>Victoria Village Arena</td>\n      <td>43.723481</td>\n      <td>-79.315635</td>\n      <td>[{'label': 'display', 'lat': 43.72348055545508...</td>\n      <td>267</td>\n      <td>CA</td>\n      <td>Canada</td>\n      <td>[Canada]</td>\n      <td>[{'id': '4bf58dd8d48988d185941735', 'name': 'H...</td>\n      <td>0</td>\n      <td>[]</td>\n      <td>NaN</td>\n      <td>NaN</td>\n      <td>NaN</td>\n      <td>NaN</td>\n      <td>NaN</td>\n    </tr>\n    <tr>\n      <td>1</td>\n      <td>e-0-4bbe904a85fbb713420d7167-1</td>\n      <td>0</td>\n      <td>[{'summary': 'This spot is popular', 'type': '...</td>\n      <td>4bbe904a85fbb713420d7167</td>\n      <td>Tim Hortons</td>\n      <td>43.725517</td>\n      <td>-79.313103</td>\n      <td>[{'label': 'display', 'lat': 43.72551663171475...</td>\n      <td>202</td>\n      <td>CA</td>\n      <td>Canada</td>\n      <td>[1733 Eglinton Ave East (at Bermondsey Rd), To...</td>\n      <td>[{'id': '4bf58dd8d48988d1e0931735', 'name': 'C...</td>\n      <td>0</td>\n      <td>[]</td>\n      <td>1733 Eglinton Ave East</td>\n      <td>at Bermondsey Rd</td>\n      <td>M4A 1J8</td>\n      <td>Toronto</td>\n      <td>ON</td>\n    </tr>\n    <tr>\n      <td>2</td>\n      <td>e-0-4f3ecce6e4b0587016b6f30d-2</td>\n      <td>0</td>\n      <td>[{'summary': 'This spot is popular', 'type': '...</td>\n      <td>4f3ecce6e4b0587016b6f30d</td>\n      <td>Portugril</td>\n      <td>43.725819</td>\n      <td>-79.312785</td>\n      <td>[{'label': 'display', 'lat': 43.72581876267242...</td>\n      <td>224</td>\n      <td>CA</td>\n      <td>Canada</td>\n      <td>[1733 Eglinton Avenue East (Bermondsey), Toron...</td>\n      <td>[{'id': '4def73e84765ae376e57713a', 'name': 'P...</td>\n      <td>0</td>\n      <td>[]</td>\n      <td>1733 Eglinton Avenue East</td>\n      <td>Bermondsey</td>\n      <td>NaN</td>\n      <td>Toronto</td>\n      <td>ON</td>\n    </tr>\n  </tbody>\n</table>\n</div>"
                    }, 
                    "metadata": {}
                }
            ], 
            "metadata": {}
        }, 
        {
            "execution_count": 170, 
            "cell_type": "code", 
            "source": "# Filtering the columns\nfiltered_columns = ['venue.name', 'venue.categories', 'venue.location.lat', 'venue.location.lng']\nnearby_venues = nearby_venues.loc[:, filtered_columns]\nnearby_venues.head(3)", 
            "outputs": [
                {
                    "execution_count": 170, 
                    "output_type": "execute_result", 
                    "data": {
                        "text/plain": "               venue.name                                   venue.categories  \\\n0  Victoria Village Arena  [{'id': '4bf58dd8d48988d185941735', 'name': 'H...   \n1             Tim Hortons  [{'id': '4bf58dd8d48988d1e0931735', 'name': 'C...   \n2               Portugril  [{'id': '4def73e84765ae376e57713a', 'name': 'P...   \n\n   venue.location.lat  venue.location.lng  \n0           43.723481          -79.315635  \n1           43.725517          -79.313103  \n2           43.725819          -79.312785  ", 
                        "text/html": "<div>\n<style scoped>\n    .dataframe tbody tr th:only-of-type {\n        vertical-align: middle;\n    }\n\n    .dataframe tbody tr th {\n        vertical-align: top;\n    }\n\n    .dataframe thead th {\n        text-align: right;\n    }\n</style>\n<table border=\"1\" class=\"dataframe\">\n  <thead>\n    <tr style=\"text-align: right;\">\n      <th></th>\n      <th>venue.name</th>\n      <th>venue.categories</th>\n      <th>venue.location.lat</th>\n      <th>venue.location.lng</th>\n    </tr>\n  </thead>\n  <tbody>\n    <tr>\n      <td>0</td>\n      <td>Victoria Village Arena</td>\n      <td>[{'id': '4bf58dd8d48988d185941735', 'name': 'H...</td>\n      <td>43.723481</td>\n      <td>-79.315635</td>\n    </tr>\n    <tr>\n      <td>1</td>\n      <td>Tim Hortons</td>\n      <td>[{'id': '4bf58dd8d48988d1e0931735', 'name': 'C...</td>\n      <td>43.725517</td>\n      <td>-79.313103</td>\n    </tr>\n    <tr>\n      <td>2</td>\n      <td>Portugril</td>\n      <td>[{'id': '4def73e84765ae376e57713a', 'name': 'P...</td>\n      <td>43.725819</td>\n      <td>-79.312785</td>\n    </tr>\n  </tbody>\n</table>\n</div>"
                    }, 
                    "metadata": {}
                }
            ], 
            "metadata": {}
        }, 
        {
            "execution_count": 171, 
            "cell_type": "code", 
            "source": "# filter the category for each row\nnearby_venues['venue.categories'] = nearby_venues.apply(get_category_type, axis=1)\nnearby_venues.head(3)\n#print(nearby_venues)", 
            "outputs": [
                {
                    "execution_count": 171, 
                    "output_type": "execute_result", 
                    "data": {
                        "text/plain": "               venue.name       venue.categories  venue.location.lat  \\\n0  Victoria Village Arena           Hockey Arena           43.723481   \n1             Tim Hortons            Coffee Shop           43.725517   \n2               Portugril  Portuguese Restaurant           43.725819   \n\n   venue.location.lng  \n0          -79.315635  \n1          -79.313103  \n2          -79.312785  ", 
                        "text/html": "<div>\n<style scoped>\n    .dataframe tbody tr th:only-of-type {\n        vertical-align: middle;\n    }\n\n    .dataframe tbody tr th {\n        vertical-align: top;\n    }\n\n    .dataframe thead th {\n        text-align: right;\n    }\n</style>\n<table border=\"1\" class=\"dataframe\">\n  <thead>\n    <tr style=\"text-align: right;\">\n      <th></th>\n      <th>venue.name</th>\n      <th>venue.categories</th>\n      <th>venue.location.lat</th>\n      <th>venue.location.lng</th>\n    </tr>\n  </thead>\n  <tbody>\n    <tr>\n      <td>0</td>\n      <td>Victoria Village Arena</td>\n      <td>Hockey Arena</td>\n      <td>43.723481</td>\n      <td>-79.315635</td>\n    </tr>\n    <tr>\n      <td>1</td>\n      <td>Tim Hortons</td>\n      <td>Coffee Shop</td>\n      <td>43.725517</td>\n      <td>-79.313103</td>\n    </tr>\n    <tr>\n      <td>2</td>\n      <td>Portugril</td>\n      <td>Portuguese Restaurant</td>\n      <td>43.725819</td>\n      <td>-79.312785</td>\n    </tr>\n  </tbody>\n</table>\n</div>"
                    }, 
                    "metadata": {}
                }
            ], 
            "metadata": {}
        }, 
        {
            "execution_count": 172, 
            "cell_type": "code", 
            "source": "# clean columns\n# Keeping the last string and discarding all other strings after spliting the column names\nnearby_venues.columns = [col.split(\".\")[-1] for col in nearby_venues.columns]", 
            "outputs": [], 
            "metadata": {}
        }, 
        {
            "execution_count": 173, 
            "cell_type": "code", 
            "source": "nearby_venues.head(60)", 
            "outputs": [
                {
                    "execution_count": 173, 
                    "output_type": "execute_result", 
                    "data": {
                        "text/plain": "                                        name             categories  \\\n0                     Victoria Village Arena           Hockey Arena   \n1                                Tim Hortons            Coffee Shop   \n2                                  Portugril  Portuguese Restaurant   \n3                                   The Frig      French Restaurant   \n4  Eglinton Ave E & Sloane Ave/Bermondsey Rd           Intersection   \n\n         lat        lng  \n0  43.723481 -79.315635  \n1  43.725517 -79.313103  \n2  43.725819 -79.312785  \n3  43.727051 -79.317418  \n4  43.726086 -79.313620  ", 
                        "text/html": "<div>\n<style scoped>\n    .dataframe tbody tr th:only-of-type {\n        vertical-align: middle;\n    }\n\n    .dataframe tbody tr th {\n        vertical-align: top;\n    }\n\n    .dataframe thead th {\n        text-align: right;\n    }\n</style>\n<table border=\"1\" class=\"dataframe\">\n  <thead>\n    <tr style=\"text-align: right;\">\n      <th></th>\n      <th>name</th>\n      <th>categories</th>\n      <th>lat</th>\n      <th>lng</th>\n    </tr>\n  </thead>\n  <tbody>\n    <tr>\n      <td>0</td>\n      <td>Victoria Village Arena</td>\n      <td>Hockey Arena</td>\n      <td>43.723481</td>\n      <td>-79.315635</td>\n    </tr>\n    <tr>\n      <td>1</td>\n      <td>Tim Hortons</td>\n      <td>Coffee Shop</td>\n      <td>43.725517</td>\n      <td>-79.313103</td>\n    </tr>\n    <tr>\n      <td>2</td>\n      <td>Portugril</td>\n      <td>Portuguese Restaurant</td>\n      <td>43.725819</td>\n      <td>-79.312785</td>\n    </tr>\n    <tr>\n      <td>3</td>\n      <td>The Frig</td>\n      <td>French Restaurant</td>\n      <td>43.727051</td>\n      <td>-79.317418</td>\n    </tr>\n    <tr>\n      <td>4</td>\n      <td>Eglinton Ave E &amp; Sloane Ave/Bermondsey Rd</td>\n      <td>Intersection</td>\n      <td>43.726086</td>\n      <td>-79.313620</td>\n    </tr>\n  </tbody>\n</table>\n</div>"
                    }, 
                    "metadata": {}
                }
            ], 
            "metadata": {}
        }, 
        {
            "execution_count": 174, 
            "cell_type": "code", 
            "source": "nearby_venues['categories'].value_counts()", 
            "outputs": [
                {
                    "execution_count": 174, 
                    "output_type": "execute_result", 
                    "data": {
                        "text/plain": "French Restaurant        1\nCoffee Shop              1\nHockey Arena             1\nIntersection             1\nPortuguese Restaurant    1\nName: categories, dtype: int64"
                    }, 
                    "metadata": {}
                }
            ], 
            "metadata": {}
        }, 
        {
            "execution_count": null, 
            "cell_type": "code", 
            "source": "", 
            "outputs": [], 
            "metadata": {}
        }, 
        {
            "execution_count": null, 
            "cell_type": "code", 
            "source": "", 
            "outputs": [], 
            "metadata": {}
        }, 
        {
            "source": "### Calculating recreation places count", 
            "cell_type": "markdown", 
            "metadata": {}
        }, 
        {
            "execution_count": 175, 
            "cell_type": "code", 
            "source": "def getRecreationCount(nearby_venues):\n\n    cat = nearby_venues['categories'].value_counts()\n    str = '(Spa)|(Bank)|(Art Gallery)|(Theater)|(Park)|(Historic Site)|(Event Space)|(Cosmetics Shop)|(Performing Arts Venue)|(Antique Shop)|(Pool)|(Intersection)|(Hockey Arena)|(Hockey Arena)|(Clothing Store)|(Women\\'s Store)|(Boutique)|(Shoe Store)|(Fast Food Restaurant)|(Asian Restaurant)|(French Restaurant)|(Caribbean Restaurant)|(Japanese Restaurant)|(Shopping Plaza)|(Pizza Place)|(Pharmacy)|(Convenience Store)|(Coffee Shop)|(Sports Bar)|(Supermarket)|(Sushi Restaurant)|(Fried Chicken Joint)|(Sandwich Place)|(Bridal Shop)|(Middle Eastern Restaurant)|(Steakhouse)|(Bar)|(Jazz Club)|(Seafood Restaurant)|(Seafood Restaurant)|(Noodle House)|(Dance Studio)|(Monument)|(Speakeasy)|(General Travel)|(Concert Hall)'\n \n    if len(nearby_venues[nearby_venues['categories'].str.match(pat = '(Italian Restaurant)')]) == 0:\n        val = nearby_venues['categories'].str.match(pat = str)\n        return len(nearby_venues[val])\n    \n    else:\n        return 0", 
            "outputs": [], 
            "metadata": {}
        }, 
        {
            "execution_count": 180, 
            "cell_type": "code", 
            "source": "# Calculating recreation places count for all neighbourhoods\n\nlistRec = []\n\n#print(LLD_df.shape)\n\nfor pos in range(LLD_df.shape[0]):\n\n    try:\n        #pos=7\n        #neighborhood_name = LLD_df.loc[pos, 'Neighbourhood'] # neighborhood name\n        neighborhood_latitude = LLD_df.loc[pos, 'Latitude'] # neighborhood latitude value\n        neighborhood_longitude = LLD_df.loc[pos, 'Longitude'] # neighborhood longitude value\n        limit = 100 # top 100 venues in given Neighbourhood within radius(500)\n        radius = 500 # radius is in meters\n\n        url = 'https://api.foursquare.com/v2/venues/explore?&client_id={}&client_secret={}&v={}&ll={},{}&radius={}&limit={}'.format(CLIENT_ID, CLIENT_SECRET, VERSION, neighborhood_latitude,neighborhood_longitude, radius, limit)\n        results = requests.get(url).json()\n        venues = results['response']['groups'][0]['items']\n        nearby_venues = json_normalize(venues) # flatten JSON into dataframe\n        filtered_columns = ['venue.name', 'venue.categories', 'venue.location.lat', 'venue.location.lng']\n        nearby_venues = nearby_venues.loc[:, filtered_columns]\n        nearby_venues['venue.categories'] = nearby_venues.apply(get_category_type, axis=1)\n        nearby_venues.columns = [col.split(\".\")[-1] for col in nearby_venues.columns]\n        #nearby_venues.head(30)\n        #nearby_venues['categories'].value_counts()\n        \n        listRec.append(getRecreationCount(nearby_venues))\n        \n    except:\n        listRec.append(0)\n        \n#listRec\n", 
            "outputs": [
                {
                    "output_type": "stream", 
                    "name": "stdout", 
                    "text": "(211, 2)\n"
                }
            ], 
            "metadata": {}
        }, 
        {
            "execution_count": 177, 
            "cell_type": "code", 
            "source": "LLD_df['Recreation Places Count'] = listRec\nLLD_df.drop('Latitude', axis=1, inplace=True)\nLLD_df.drop('Longitude', axis=1, inplace=True)\nLLD_df.drop('Borough', axis=1, inplace=True)\n", 
            "outputs": [], 
            "metadata": {}
        }, 
        {
            "execution_count": 178, 
            "cell_type": "code", 
            "source": "LLD_df", 
            "outputs": [
                {
                    "execution_count": 178, 
                    "output_type": "execute_result", 
                    "data": {
                        "text/plain": "        Neighbourhood  Recreation Places Count\n0           Parkwoods                        2\n1    Victoria Village                        4\n2        Harbourfront                        0\n3         Regent Park                        0\n4    Lawrence Heights                        7\n..                ...                      ...\n206     Kingsway Park                        3\n207         Mimico NW                        3\n208         Queensway                        3\n209        Royal York                        3\n210          of Bloor                        3\n\n[211 rows x 2 columns]", 
                        "text/html": "<div>\n<style scoped>\n    .dataframe tbody tr th:only-of-type {\n        vertical-align: middle;\n    }\n\n    .dataframe tbody tr th {\n        vertical-align: top;\n    }\n\n    .dataframe thead th {\n        text-align: right;\n    }\n</style>\n<table border=\"1\" class=\"dataframe\">\n  <thead>\n    <tr style=\"text-align: right;\">\n      <th></th>\n      <th>Neighbourhood</th>\n      <th>Recreation Places Count</th>\n    </tr>\n  </thead>\n  <tbody>\n    <tr>\n      <td>0</td>\n      <td>Parkwoods</td>\n      <td>2</td>\n    </tr>\n    <tr>\n      <td>1</td>\n      <td>Victoria Village</td>\n      <td>4</td>\n    </tr>\n    <tr>\n      <td>2</td>\n      <td>Harbourfront</td>\n      <td>0</td>\n    </tr>\n    <tr>\n      <td>3</td>\n      <td>Regent Park</td>\n      <td>0</td>\n    </tr>\n    <tr>\n      <td>4</td>\n      <td>Lawrence Heights</td>\n      <td>7</td>\n    </tr>\n    <tr>\n      <td>...</td>\n      <td>...</td>\n      <td>...</td>\n    </tr>\n    <tr>\n      <td>206</td>\n      <td>Kingsway Park</td>\n      <td>3</td>\n    </tr>\n    <tr>\n      <td>207</td>\n      <td>Mimico NW</td>\n      <td>3</td>\n    </tr>\n    <tr>\n      <td>208</td>\n      <td>Queensway</td>\n      <td>3</td>\n    </tr>\n    <tr>\n      <td>209</td>\n      <td>Royal York</td>\n      <td>3</td>\n    </tr>\n    <tr>\n      <td>210</td>\n      <td>of Bloor</td>\n      <td>3</td>\n    </tr>\n  </tbody>\n</table>\n<p>211 rows \u00d7 2 columns</p>\n</div>"
                    }, 
                    "metadata": {}
                }
            ], 
            "metadata": {}
        }, 
        {
            "execution_count": null, 
            "cell_type": "code", 
            "source": "", 
            "outputs": [], 
            "metadata": {}
        }, 
        {
            "execution_count": 179, 
            "cell_type": "code", 
            "source": "LLD_df.to_csv('CS_RecreationData.csv', index=False)", 
            "outputs": [], 
            "metadata": {}
        }, 
        {
            "execution_count": null, 
            "cell_type": "code", 
            "source": "", 
            "outputs": [], 
            "metadata": {}
        }, 
        {
            "execution_count": null, 
            "cell_type": "code", 
            "source": "", 
            "outputs": [], 
            "metadata": {}
        }, 
        {
            "execution_count": null, 
            "cell_type": "code", 
            "source": "", 
            "outputs": [], 
            "metadata": {}
        }, 
        {
            "execution_count": null, 
            "cell_type": "code", 
            "source": "", 
            "outputs": [], 
            "metadata": {}
        }, 
        {
            "execution_count": null, 
            "cell_type": "code", 
            "source": "", 
            "outputs": [], 
            "metadata": {}
        }
    ], 
    "nbformat": 4, 
    "metadata": {
        "kernelspec": {
            "display_name": "Python", 
            "name": "conda-env-python-py", 
            "language": "python"
        }, 
        "language_info": {
            "mimetype": "text/x-python", 
            "nbconvert_exporter": "python", 
            "version": "3.6.7", 
            "name": "python", 
            "file_extension": ".py", 
            "pygments_lexer": "ipython3", 
            "codemirror_mode": {
                "version": 3, 
                "name": "ipython"
            }
        }
    }
}