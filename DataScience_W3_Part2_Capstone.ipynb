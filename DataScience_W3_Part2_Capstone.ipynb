{
    "nbformat_minor": 1, 
    "cells": [
        {
            "source": "# Reading Geographical Coordinates from CSV file, converting it to dataframe and making required dataframe by merging it with combined Neighbourhood dataframe ", 
            "cell_type": "markdown", 
            "metadata": {}
        }, 
        {
            "source": "### Importing necessary libraries", 
            "cell_type": "markdown", 
            "metadata": {}
        }, 
        {
            "source": "import pandas as pd\nfrom bs4 import BeautifulSoup\nimport urllib.request as urlreq\nimport lxml", 
            "cell_type": "code", 
            "execution_count": 1, 
            "outputs": [], 
            "metadata": {}
        }, 
        {
            "source": "### Reading Wikipedia page for scraping", 
            "cell_type": "markdown", 
            "metadata": {}
        }, 
        {
            "source": "with urlreq.urlopen(\"https://en.wikipedia.org/wiki/List_of_postal_codes_of_Canada:_M\") as response:\n    PCC_html = response.read()", 
            "cell_type": "code", 
            "execution_count": 2, 
            "outputs": [], 
            "metadata": {}
        }, 
        {
            "source": "#print(PCC_html)", 
            "cell_type": "code", 
            "execution_count": 3, 
            "outputs": [], 
            "metadata": {}
        }, 
        {
            "source": "### parsing the wiki webpage html using beautiful soup package, and displayed", 
            "cell_type": "markdown", 
            "metadata": {}
        }, 
        {
            "source": "soup = BeautifulSoup(PCC_html, 'html.parser')\n#print(soup.prettify())", 
            "cell_type": "code", 
            "execution_count": 4, 
            "outputs": [], 
            "metadata": {}
        }, 
        {
            "source": "### Extracting the table from html using beautiful soup object", 
            "cell_type": "markdown", 
            "metadata": {}
        }, 
        {
            "source": "table = soup.find_all('table')[0] # finding the first table in the html\n#print(str(table))", 
            "cell_type": "code", 
            "execution_count": 5, 
            "outputs": [], 
            "metadata": {}
        }, 
        {
            "source": "### Conversion of html table to string and then conversion to dataframes using pandas function read_html()", 
            "cell_type": "markdown", 
            "metadata": {}
        }, 
        {
            "source": "df = pd.read_html(str(table))[0] # conversion of html to string and then conversion to dataframes\n#df.head(10)", 
            "cell_type": "code", 
            "execution_count": 6, 
            "outputs": [], 
            "metadata": {}
        }, 
        {
            "source": "### Ignoring cells with a borough that is Not assigned", 
            "cell_type": "markdown", 
            "metadata": {}
        }, 
        {
            "source": "df_with_borough = df[df['Borough'] != \"Not assigned\"]\n#df_with_borough.head()", 
            "cell_type": "code", 
            "execution_count": 7, 
            "outputs": [], 
            "metadata": {}
        }, 
        {
            "source": "### Resetting the index", 
            "cell_type": "markdown", 
            "metadata": {}
        }, 
        {
            "source": "df_with_borough.reset_index(inplace=True, drop=True)\n#df_with_borough.head(7)", 
            "cell_type": "code", 
            "execution_count": 8, 
            "outputs": [], 
            "metadata": {}
        }, 
        {
            "source": "### Here we can see the Borough which have Neighbourhood not assigned so it is required to be coppied with the Borough name", 
            "cell_type": "markdown", 
            "metadata": {}
        }, 
        {
            "source": "df_same_borough_nbr = df_with_borough\n\n#  Ignore cells with a borough that is Not assigned\np = df_same_borough_nbr.loc[df_same_borough_nbr['Neighbourhood'] == \"Not assigned\"]\n#p.head(7)", 
            "cell_type": "code", 
            "execution_count": 9, 
            "outputs": [], 
            "metadata": {}
        }, 
        {
            "source": "### Copying Neighbourhood with Borough that has \"Not assigned\"", 
            "cell_type": "markdown", 
            "metadata": {}
        }, 
        {
            "source": "#### It can be seen that the Borough Queen's Park is coppied in the Neighbourhood as well", 
            "cell_type": "markdown", 
            "metadata": {}
        }, 
        {
            "source": "df_same_borough_nbr.iloc[p.index[0]]['Neighbourhood'] = df_same_borough_nbr.iloc[p.index[0]]['Borough']\n#df_same_borough_nbr.head(10)", 
            "cell_type": "code", 
            "execution_count": 10, 
            "outputs": [], 
            "metadata": {}
        }, 
        {
            "source": "### function describe() tells the total number of Postcode, Borough and Neighbourhood repeatition with unique number of Postcodes, here it can be seen the difference between the repeatition and unique Postcode where both should be same", 
            "cell_type": "markdown", 
            "metadata": {}
        }, 
        {
            "source": "df_same_borough_nbr.describe()", 
            "cell_type": "code", 
            "execution_count": 11, 
            "outputs": [
                {
                    "output_type": "execute_result", 
                    "metadata": {}, 
                    "data": {
                        "text/html": "<div>\n<style scoped>\n    .dataframe tbody tr th:only-of-type {\n        vertical-align: middle;\n    }\n\n    .dataframe tbody tr th {\n        vertical-align: top;\n    }\n\n    .dataframe thead th {\n        text-align: right;\n    }\n</style>\n<table border=\"1\" class=\"dataframe\">\n  <thead>\n    <tr style=\"text-align: right;\">\n      <th></th>\n      <th>Postcode</th>\n      <th>Borough</th>\n      <th>Neighbourhood</th>\n    </tr>\n  </thead>\n  <tbody>\n    <tr>\n      <th>count</th>\n      <td>211</td>\n      <td>211</td>\n      <td>211</td>\n    </tr>\n    <tr>\n      <th>unique</th>\n      <td>103</td>\n      <td>11</td>\n      <td>209</td>\n    </tr>\n    <tr>\n      <th>top</th>\n      <td>M8Y</td>\n      <td>Etobicoke</td>\n      <td>St. James Town</td>\n    </tr>\n    <tr>\n      <th>freq</th>\n      <td>8</td>\n      <td>45</td>\n      <td>2</td>\n    </tr>\n  </tbody>\n</table>\n</div>", 
                        "text/plain": "       Postcode    Borough   Neighbourhood\ncount       211        211             211\nunique      103         11             209\ntop         M8Y  Etobicoke  St. James Town\nfreq          8         45               2"
                    }, 
                    "execution_count": 11
                }
            ], 
            "metadata": {}
        }, 
        {
            "source": "### Grouping the table by Postcode and accessing a specific group can be done as follows", 
            "cell_type": "markdown", 
            "metadata": {}
        }, 
        {
            "source": "pp=df_same_borough_nbr.groupby('Postcode')\nk=pp.get_group('M5A')\n#k", 
            "cell_type": "code", 
            "execution_count": 12, 
            "outputs": [], 
            "metadata": {}
        }, 
        {
            "source": "### Creating a new data frame with the same column names for combinded Neighbourhood", 
            "cell_type": "markdown", 
            "metadata": {}
        }, 
        {
            "source": "newDF = pd.DataFrame(columns = ['Postcode', 'Borough', 'Neighbourhood'])\n#newDF", 
            "cell_type": "code", 
            "execution_count": 13, 
            "outputs": [], 
            "metadata": {}
        }, 
        {
            "source": "### Unique Postcodes are determined using pandas unique() function for accessing each group of Postcode seperately, \n### Single Neighbourhood of a Borough is copied as it is but Multiple Neighbourhood of a Borough is concatenated using join() function seperated by comma\n### apply() function is used with axis = 0 for accessing each row of Neighbourhood which has join() function for concatination as described above\n### Lastly, a row of dataframe is created and appended based on Postcode, Borough and respective Combined Neighbourhood in the new dataframe", 
            "cell_type": "markdown", 
            "metadata": {}
        }, 
        {
            "source": "\n# getting unique post codes for iteration to all the groups based on 'postcode' one by one for extracting neighbourhood\ndf_uniquePostcodes = df_same_borough_nbr['Postcode'].unique()\n\nfor PC in df_uniquePostcodes:\n    Total_Nbr_of_PC = pp.get_group(PC)\n    \n    # copying the rows with no multiple Neighbourhoods\n    if len(Total_Nbr_of_PC)==1:\n        POSTCODE = Total_Nbr_of_PC.iloc[0,0]\n        BOROUGH = Total_Nbr_of_PC.iloc[0,1]\n        NEIGHBOURHOOD = Total_Nbr_of_PC.iloc[0,2]\n        newDF = newDF.append(pd.DataFrame({'Postcode':POSTCODE,'Borough':BOROUGH, 'Neighbourhood':NEIGHBOURHOOD}, index=[0]) , ignore_index=True)\n    elif len(Total_Nbr_of_PC)>1:\n        # Following line combines all the Neighbourhoods of a group in rows seperated with comma\n        tt = Total_Nbr_of_PC[['Neighbourhood']].apply(lambda alpha: ','.join(alpha),axis=0)\n        POSTCODE = Total_Nbr_of_PC.iloc[0,0]\n        BOROUGH = Total_Nbr_of_PC.iloc[0,1]\n        NEIGHBOURHOOD = tt[0]\n        \n        #print(Total_Nbr_of_PC,', Length = ', len(Total_Nbr_of_PC))\n        #print('Postcode = ', Total_Nbr_of_PC.iloc[0,0])\n        #print('Borough = ', Total_Nbr_of_PC.iloc[0,1])\n        #print('Appended Nbr = ', tt[0], '\\n')\n        \n        newDF = newDF.append(pd.DataFrame({'Postcode':POSTCODE,'Borough':BOROUGH, 'Neighbourhood':NEIGHBOURHOOD}, index=[0]) , ignore_index=True)\n\n    #print(pp.get_group(PC))\n    #print(PC)\n    \nnewDF.head(10)", 
            "cell_type": "code", 
            "execution_count": 14, 
            "outputs": [
                {
                    "output_type": "execute_result", 
                    "metadata": {}, 
                    "data": {
                        "text/html": "<div>\n<style scoped>\n    .dataframe tbody tr th:only-of-type {\n        vertical-align: middle;\n    }\n\n    .dataframe tbody tr th {\n        vertical-align: top;\n    }\n\n    .dataframe thead th {\n        text-align: right;\n    }\n</style>\n<table border=\"1\" class=\"dataframe\">\n  <thead>\n    <tr style=\"text-align: right;\">\n      <th></th>\n      <th>Postcode</th>\n      <th>Borough</th>\n      <th>Neighbourhood</th>\n    </tr>\n  </thead>\n  <tbody>\n    <tr>\n      <th>0</th>\n      <td>M3A</td>\n      <td>North York</td>\n      <td>Parkwoods</td>\n    </tr>\n    <tr>\n      <th>1</th>\n      <td>M4A</td>\n      <td>North York</td>\n      <td>Victoria Village</td>\n    </tr>\n    <tr>\n      <th>2</th>\n      <td>M5A</td>\n      <td>Downtown Toronto</td>\n      <td>Harbourfront,Regent Park</td>\n    </tr>\n    <tr>\n      <th>3</th>\n      <td>M6A</td>\n      <td>North York</td>\n      <td>Lawrence Heights,Lawrence Manor</td>\n    </tr>\n    <tr>\n      <th>4</th>\n      <td>M7A</td>\n      <td>Queen's Park</td>\n      <td>Queen's Park</td>\n    </tr>\n    <tr>\n      <th>5</th>\n      <td>M9A</td>\n      <td>Etobicoke</td>\n      <td>Islington Avenue</td>\n    </tr>\n    <tr>\n      <th>6</th>\n      <td>M1B</td>\n      <td>Scarborough</td>\n      <td>Rouge,Malvern</td>\n    </tr>\n    <tr>\n      <th>7</th>\n      <td>M3B</td>\n      <td>North York</td>\n      <td>Don Mills North</td>\n    </tr>\n    <tr>\n      <th>8</th>\n      <td>M4B</td>\n      <td>East York</td>\n      <td>Woodbine Gardens,Parkview Hill</td>\n    </tr>\n    <tr>\n      <th>9</th>\n      <td>M5B</td>\n      <td>Downtown Toronto</td>\n      <td>Ryerson,Garden District</td>\n    </tr>\n  </tbody>\n</table>\n</div>", 
                        "text/plain": "  Postcode           Borough                    Neighbourhood\n0      M3A        North York                        Parkwoods\n1      M4A        North York                 Victoria Village\n2      M5A  Downtown Toronto         Harbourfront,Regent Park\n3      M6A        North York  Lawrence Heights,Lawrence Manor\n4      M7A      Queen's Park                     Queen's Park\n5      M9A         Etobicoke                 Islington Avenue\n6      M1B       Scarborough                    Rouge,Malvern\n7      M3B        North York                  Don Mills North\n8      M4B         East York   Woodbine Gardens,Parkview Hill\n9      M5B  Downtown Toronto          Ryerson,Garden District"
                    }, 
                    "execution_count": 14
                }
            ], 
            "metadata": {}
        }, 
        {
            "source": "### Checking the size of table shows that now the table have rows equal to unique Postcodes", 
            "cell_type": "markdown", 
            "metadata": {}
        }, 
        {
            "source": "newDF.shape", 
            "cell_type": "code", 
            "execution_count": 15, 
            "outputs": [
                {
                    "output_type": "execute_result", 
                    "metadata": {}, 
                    "data": {
                        "text/plain": "(103, 3)"
                    }, 
                    "execution_count": 15
                }
            ], 
            "metadata": {}
        }, 
        {
            "source": "### Also describe() function shows that now the total count of rows of table is equal to the unique Postcodes", 
            "cell_type": "markdown", 
            "metadata": {}
        }, 
        {
            "source": "newDF.describe()", 
            "cell_type": "code", 
            "execution_count": 16, 
            "outputs": [
                {
                    "output_type": "execute_result", 
                    "metadata": {}, 
                    "data": {
                        "text/html": "<div>\n<style scoped>\n    .dataframe tbody tr th:only-of-type {\n        vertical-align: middle;\n    }\n\n    .dataframe tbody tr th {\n        vertical-align: top;\n    }\n\n    .dataframe thead th {\n        text-align: right;\n    }\n</style>\n<table border=\"1\" class=\"dataframe\">\n  <thead>\n    <tr style=\"text-align: right;\">\n      <th></th>\n      <th>Postcode</th>\n      <th>Borough</th>\n      <th>Neighbourhood</th>\n    </tr>\n  </thead>\n  <tbody>\n    <tr>\n      <th>count</th>\n      <td>103</td>\n      <td>103</td>\n      <td>103</td>\n    </tr>\n    <tr>\n      <th>unique</th>\n      <td>103</td>\n      <td>11</td>\n      <td>103</td>\n    </tr>\n    <tr>\n      <th>top</th>\n      <td>M2P</td>\n      <td>North York</td>\n      <td>The Kingsway,Montgomery Road,Old Mill North</td>\n    </tr>\n    <tr>\n      <th>freq</th>\n      <td>1</td>\n      <td>24</td>\n      <td>1</td>\n    </tr>\n  </tbody>\n</table>\n</div>", 
                        "text/plain": "       Postcode     Borough                                Neighbourhood\ncount       103         103                                          103\nunique      103          11                                          103\ntop         M2P  North York  The Kingsway,Montgomery Road,Old Mill North\nfreq          1          24                                            1"
                    }, 
                    "execution_count": 16
                }
            ], 
            "metadata": {}
        }, 
        {
            "source": "# Making Data Frame with Latitude and Longitude", 
            "cell_type": "markdown", 
            "metadata": {}
        }, 
        {
            "source": "## Fetching Geolocation Data into csv file", 
            "cell_type": "markdown", 
            "metadata": {}
        }, 
        {
            "source": "!wget -q -O 'Geospatial_DATA.csv' 'http://cocl.us/Geospatial_data'", 
            "cell_type": "code", 
            "execution_count": 17, 
            "outputs": [], 
            "metadata": {}
        }, 
        {
            "source": "## Reading the csv file and converting into dataframe using pandas function read_csv()", 
            "cell_type": "markdown", 
            "metadata": {}
        }, 
        {
            "source": "GeoData = pd.read_csv('Geospatial_DATA.csv')\nGeoData.head(10)", 
            "cell_type": "code", 
            "execution_count": 18, 
            "outputs": [
                {
                    "output_type": "execute_result", 
                    "metadata": {}, 
                    "data": {
                        "text/html": "<div>\n<style scoped>\n    .dataframe tbody tr th:only-of-type {\n        vertical-align: middle;\n    }\n\n    .dataframe tbody tr th {\n        vertical-align: top;\n    }\n\n    .dataframe thead th {\n        text-align: right;\n    }\n</style>\n<table border=\"1\" class=\"dataframe\">\n  <thead>\n    <tr style=\"text-align: right;\">\n      <th></th>\n      <th>Postal Code</th>\n      <th>Latitude</th>\n      <th>Longitude</th>\n    </tr>\n  </thead>\n  <tbody>\n    <tr>\n      <th>0</th>\n      <td>M1B</td>\n      <td>43.806686</td>\n      <td>-79.194353</td>\n    </tr>\n    <tr>\n      <th>1</th>\n      <td>M1C</td>\n      <td>43.784535</td>\n      <td>-79.160497</td>\n    </tr>\n    <tr>\n      <th>2</th>\n      <td>M1E</td>\n      <td>43.763573</td>\n      <td>-79.188711</td>\n    </tr>\n    <tr>\n      <th>3</th>\n      <td>M1G</td>\n      <td>43.770992</td>\n      <td>-79.216917</td>\n    </tr>\n    <tr>\n      <th>4</th>\n      <td>M1H</td>\n      <td>43.773136</td>\n      <td>-79.239476</td>\n    </tr>\n    <tr>\n      <th>5</th>\n      <td>M1J</td>\n      <td>43.744734</td>\n      <td>-79.239476</td>\n    </tr>\n    <tr>\n      <th>6</th>\n      <td>M1K</td>\n      <td>43.727929</td>\n      <td>-79.262029</td>\n    </tr>\n    <tr>\n      <th>7</th>\n      <td>M1L</td>\n      <td>43.711112</td>\n      <td>-79.284577</td>\n    </tr>\n    <tr>\n      <th>8</th>\n      <td>M1M</td>\n      <td>43.716316</td>\n      <td>-79.239476</td>\n    </tr>\n    <tr>\n      <th>9</th>\n      <td>M1N</td>\n      <td>43.692657</td>\n      <td>-79.264848</td>\n    </tr>\n  </tbody>\n</table>\n</div>", 
                        "text/plain": "  Postal Code   Latitude  Longitude\n0         M1B  43.806686 -79.194353\n1         M1C  43.784535 -79.160497\n2         M1E  43.763573 -79.188711\n3         M1G  43.770992 -79.216917\n4         M1H  43.773136 -79.239476\n5         M1J  43.744734 -79.239476\n6         M1K  43.727929 -79.262029\n7         M1L  43.711112 -79.284577\n8         M1M  43.716316 -79.239476\n9         M1N  43.692657 -79.264848"
                    }, 
                    "execution_count": 18
                }
            ], 
            "metadata": {}
        }, 
        {
            "source": "## The column name Postal Code in GeoData dataframe is not equal to the column name Postcode in NewDF dataframe so it is renamed for merging", 
            "cell_type": "markdown", 
            "metadata": {}
        }, 
        {
            "source": "GeoData.rename(columns={'Postal Code':'Postcode'}, inplace=True)\nGeoData.head()", 
            "cell_type": "code", 
            "execution_count": 19, 
            "outputs": [
                {
                    "output_type": "execute_result", 
                    "metadata": {}, 
                    "data": {
                        "text/html": "<div>\n<style scoped>\n    .dataframe tbody tr th:only-of-type {\n        vertical-align: middle;\n    }\n\n    .dataframe tbody tr th {\n        vertical-align: top;\n    }\n\n    .dataframe thead th {\n        text-align: right;\n    }\n</style>\n<table border=\"1\" class=\"dataframe\">\n  <thead>\n    <tr style=\"text-align: right;\">\n      <th></th>\n      <th>Postcode</th>\n      <th>Latitude</th>\n      <th>Longitude</th>\n    </tr>\n  </thead>\n  <tbody>\n    <tr>\n      <th>0</th>\n      <td>M1B</td>\n      <td>43.806686</td>\n      <td>-79.194353</td>\n    </tr>\n    <tr>\n      <th>1</th>\n      <td>M1C</td>\n      <td>43.784535</td>\n      <td>-79.160497</td>\n    </tr>\n    <tr>\n      <th>2</th>\n      <td>M1E</td>\n      <td>43.763573</td>\n      <td>-79.188711</td>\n    </tr>\n    <tr>\n      <th>3</th>\n      <td>M1G</td>\n      <td>43.770992</td>\n      <td>-79.216917</td>\n    </tr>\n    <tr>\n      <th>4</th>\n      <td>M1H</td>\n      <td>43.773136</td>\n      <td>-79.239476</td>\n    </tr>\n  </tbody>\n</table>\n</div>", 
                        "text/plain": "  Postcode   Latitude  Longitude\n0      M1B  43.806686 -79.194353\n1      M1C  43.784535 -79.160497\n2      M1E  43.763573 -79.188711\n3      M1G  43.770992 -79.216917\n4      M1H  43.773136 -79.239476"
                    }, 
                    "execution_count": 19
                }
            ], 
            "metadata": {}
        }, 
        {
            "source": "## Merging the two dataframes newDF and GeoData to get required dataframe of Postcode with its respective latitude and longitude coordinates", 
            "cell_type": "markdown", 
            "metadata": {}
        }, 
        {
            "source": "df_PC_with_LatLong = pd.merge(newDF, GeoData, on='Postcode', how='inner')\ndf_PC_with_LatLong.head(10)", 
            "cell_type": "code", 
            "execution_count": 20, 
            "outputs": [
                {
                    "output_type": "execute_result", 
                    "metadata": {}, 
                    "data": {
                        "text/html": "<div>\n<style scoped>\n    .dataframe tbody tr th:only-of-type {\n        vertical-align: middle;\n    }\n\n    .dataframe tbody tr th {\n        vertical-align: top;\n    }\n\n    .dataframe thead th {\n        text-align: right;\n    }\n</style>\n<table border=\"1\" class=\"dataframe\">\n  <thead>\n    <tr style=\"text-align: right;\">\n      <th></th>\n      <th>Postcode</th>\n      <th>Borough</th>\n      <th>Neighbourhood</th>\n      <th>Latitude</th>\n      <th>Longitude</th>\n    </tr>\n  </thead>\n  <tbody>\n    <tr>\n      <th>0</th>\n      <td>M3A</td>\n      <td>North York</td>\n      <td>Parkwoods</td>\n      <td>43.753259</td>\n      <td>-79.329656</td>\n    </tr>\n    <tr>\n      <th>1</th>\n      <td>M4A</td>\n      <td>North York</td>\n      <td>Victoria Village</td>\n      <td>43.725882</td>\n      <td>-79.315572</td>\n    </tr>\n    <tr>\n      <th>2</th>\n      <td>M5A</td>\n      <td>Downtown Toronto</td>\n      <td>Harbourfront,Regent Park</td>\n      <td>43.654260</td>\n      <td>-79.360636</td>\n    </tr>\n    <tr>\n      <th>3</th>\n      <td>M6A</td>\n      <td>North York</td>\n      <td>Lawrence Heights,Lawrence Manor</td>\n      <td>43.718518</td>\n      <td>-79.464763</td>\n    </tr>\n    <tr>\n      <th>4</th>\n      <td>M7A</td>\n      <td>Queen's Park</td>\n      <td>Queen's Park</td>\n      <td>43.662301</td>\n      <td>-79.389494</td>\n    </tr>\n    <tr>\n      <th>5</th>\n      <td>M9A</td>\n      <td>Etobicoke</td>\n      <td>Islington Avenue</td>\n      <td>43.667856</td>\n      <td>-79.532242</td>\n    </tr>\n    <tr>\n      <th>6</th>\n      <td>M1B</td>\n      <td>Scarborough</td>\n      <td>Rouge,Malvern</td>\n      <td>43.806686</td>\n      <td>-79.194353</td>\n    </tr>\n    <tr>\n      <th>7</th>\n      <td>M3B</td>\n      <td>North York</td>\n      <td>Don Mills North</td>\n      <td>43.745906</td>\n      <td>-79.352188</td>\n    </tr>\n    <tr>\n      <th>8</th>\n      <td>M4B</td>\n      <td>East York</td>\n      <td>Woodbine Gardens,Parkview Hill</td>\n      <td>43.706397</td>\n      <td>-79.309937</td>\n    </tr>\n    <tr>\n      <th>9</th>\n      <td>M5B</td>\n      <td>Downtown Toronto</td>\n      <td>Ryerson,Garden District</td>\n      <td>43.657162</td>\n      <td>-79.378937</td>\n    </tr>\n  </tbody>\n</table>\n</div>", 
                        "text/plain": "  Postcode           Borough                    Neighbourhood   Latitude  \\\n0      M3A        North York                        Parkwoods  43.753259   \n1      M4A        North York                 Victoria Village  43.725882   \n2      M5A  Downtown Toronto         Harbourfront,Regent Park  43.654260   \n3      M6A        North York  Lawrence Heights,Lawrence Manor  43.718518   \n4      M7A      Queen's Park                     Queen's Park  43.662301   \n5      M9A         Etobicoke                 Islington Avenue  43.667856   \n6      M1B       Scarborough                    Rouge,Malvern  43.806686   \n7      M3B        North York                  Don Mills North  43.745906   \n8      M4B         East York   Woodbine Gardens,Parkview Hill  43.706397   \n9      M5B  Downtown Toronto          Ryerson,Garden District  43.657162   \n\n   Longitude  \n0 -79.329656  \n1 -79.315572  \n2 -79.360636  \n3 -79.464763  \n4 -79.389494  \n5 -79.532242  \n6 -79.194353  \n7 -79.352188  \n8 -79.309937  \n9 -79.378937  "
                    }, 
                    "execution_count": 20
                }
            ], 
            "metadata": {}
        }, 
        {
            "source": "", 
            "cell_type": "code", 
            "execution_count": null, 
            "outputs": [], 
            "metadata": {}
        }, 
        {
            "source": "", 
            "cell_type": "code", 
            "execution_count": null, 
            "outputs": [], 
            "metadata": {}
        }, 
        {
            "source": "", 
            "cell_type": "code", 
            "execution_count": null, 
            "outputs": [], 
            "metadata": {}
        }
    ], 
    "nbformat": 4, 
    "metadata": {
        "kernelspec": {
            "display_name": "Python 3.6", 
            "name": "python3", 
            "language": "python"
        }, 
        "language_info": {
            "mimetype": "text/x-python", 
            "nbconvert_exporter": "python", 
            "version": "3.6.8", 
            "name": "python", 
            "pygments_lexer": "ipython3", 
            "file_extension": ".py", 
            "codemirror_mode": {
                "version": 3, 
                "name": "ipython"
            }
        }
    }
}