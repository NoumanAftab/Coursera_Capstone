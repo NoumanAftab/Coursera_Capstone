{
    "nbformat_minor": 4, 
    "cells": [
        {
            "source": "# Toronto Neighbourhood Population etc Data", 
            "cell_type": "markdown", 
            "metadata": {}
        }, 
        {
            "source": "import pandas as pd\nimport numpy as np", 
            "cell_type": "code", 
            "execution_count": 250, 
            "outputs": [], 
            "metadata": {}
        }, 
        {
            "source": "", 
            "cell_type": "code", 
            "execution_count": null, 
            "outputs": [], 
            "metadata": {}
        }, 
        {
            "source": "#!conda install --yes beautifulsoup4", 
            "cell_type": "code", 
            "execution_count": 251, 
            "outputs": [], 
            "metadata": {}
        }, 
        {
            "source": "#!conda install --yes lxml", 
            "cell_type": "code", 
            "execution_count": 252, 
            "outputs": [], 
            "metadata": {}
        }, 
        {
            "source": "from bs4 import BeautifulSoup\nimport urllib.request as urlreq\nimport lxml\nprint('done')", 
            "cell_type": "code", 
            "execution_count": 253, 
            "outputs": [
                {
                    "output_type": "stream", 
                    "name": "stdout", 
                    "text": "done\n"
                }
            ], 
            "metadata": {}
        }, 
        {
            "source": "# Downloading data from Wikipedia", 
            "cell_type": "markdown", 
            "metadata": {}
        }, 
        {
            "source": "with urlreq.urlopen(\"https://en.wikipedia.org/wiki/Demographics_of_Toronto_neighbourhoods\") as response:\n    TorontoPopulation_html = response.read()", 
            "cell_type": "code", 
            "execution_count": 276, 
            "outputs": [], 
            "metadata": {}
        }, 
        {
            "source": "", 
            "cell_type": "code", 
            "execution_count": null, 
            "outputs": [], 
            "metadata": {}
        }, 
        {
            "source": "soup = BeautifulSoup(TorontoPopulation_html, 'html.parser')\n#print(soup.prettify())", 
            "cell_type": "code", 
            "execution_count": 277, 
            "outputs": [], 
            "metadata": {}
        }, 
        {
            "source": "# Getting the required table from the html data\n#table = soup.find_all('table')[0] # finding the first table in the html\ntable = soup.find_all('table')[1]\n#table\nPopu_df = pd.read_html(str(table))[0] # conversion of html to string and then conversion to dataframes\nPopu_df.head(3)", 
            "cell_type": "code", 
            "execution_count": 278, 
            "outputs": [
                {
                    "execution_count": 278, 
                    "output_type": "execute_result", 
                    "data": {
                        "text/plain": "                  Name   FM  \\\n0  Toronto CMA Average  NaN   \n1            Agincourt    S   \n2            Alderwood    E   \n\n                                       Census Tracts  Population  \\\n0                                                All     5113149   \n1  0377.01, 0377.02, 0377.03, 0377.04, 0378.02, 0...       44577   \n2                                   0211.00, 0212.00       11656   \n\n   Land area (km2)  Density (people/km2)  % Change in Population since 2001  \\\n0          5903.63                   866                                9.0   \n1            12.45                  3580                                4.6   \n2             4.94                  2360                               -4.0   \n\n   Average Income  Transit Commuting\u00a0%  % Renters  \\\n0           40704                 10.6       11.4   \n1           25750                 11.1        5.9   \n2           35239                  8.8        8.5   \n\n  Second most common language (after English) by name  \\\n0                                                NaN    \n1                                  Cantonese (19.3%)    \n2                                      Polish (6.2%)    \n\n  Second most common language (after English) by percentage  Map  \n0                                                NaN         NaN  \n1                                    19.3% Cantonese         NaN  \n2                                       06.2% Polish         NaN  ", 
                        "text/html": "<div>\n<style scoped>\n    .dataframe tbody tr th:only-of-type {\n        vertical-align: middle;\n    }\n\n    .dataframe tbody tr th {\n        vertical-align: top;\n    }\n\n    .dataframe thead th {\n        text-align: right;\n    }\n</style>\n<table border=\"1\" class=\"dataframe\">\n  <thead>\n    <tr style=\"text-align: right;\">\n      <th></th>\n      <th>Name</th>\n      <th>FM</th>\n      <th>Census Tracts</th>\n      <th>Population</th>\n      <th>Land area (km2)</th>\n      <th>Density (people/km2)</th>\n      <th>% Change in Population since 2001</th>\n      <th>Average Income</th>\n      <th>Transit Commuting\u00a0%</th>\n      <th>% Renters</th>\n      <th>Second most common language (after English) by name</th>\n      <th>Second most common language (after English) by percentage</th>\n      <th>Map</th>\n    </tr>\n  </thead>\n  <tbody>\n    <tr>\n      <td>0</td>\n      <td>Toronto CMA Average</td>\n      <td>NaN</td>\n      <td>All</td>\n      <td>5113149</td>\n      <td>5903.63</td>\n      <td>866</td>\n      <td>9.0</td>\n      <td>40704</td>\n      <td>10.6</td>\n      <td>11.4</td>\n      <td>NaN</td>\n      <td>NaN</td>\n      <td>NaN</td>\n    </tr>\n    <tr>\n      <td>1</td>\n      <td>Agincourt</td>\n      <td>S</td>\n      <td>0377.01, 0377.02, 0377.03, 0377.04, 0378.02, 0...</td>\n      <td>44577</td>\n      <td>12.45</td>\n      <td>3580</td>\n      <td>4.6</td>\n      <td>25750</td>\n      <td>11.1</td>\n      <td>5.9</td>\n      <td>Cantonese (19.3%)</td>\n      <td>19.3% Cantonese</td>\n      <td>NaN</td>\n    </tr>\n    <tr>\n      <td>2</td>\n      <td>Alderwood</td>\n      <td>E</td>\n      <td>0211.00, 0212.00</td>\n      <td>11656</td>\n      <td>4.94</td>\n      <td>2360</td>\n      <td>-4.0</td>\n      <td>35239</td>\n      <td>8.8</td>\n      <td>8.5</td>\n      <td>Polish (6.2%)</td>\n      <td>06.2% Polish</td>\n      <td>NaN</td>\n    </tr>\n  </tbody>\n</table>\n</div>"
                    }, 
                    "metadata": {}
                }
            ], 
            "metadata": {}
        }, 
        {
            "source": "# Selecting required columns and setting their names for concurrency and ease\nPopu_Multi = pd.DataFrame(columns = ['Neighbourhood', 'Population', 'Density', 'Avg Income', 'Transit_Commuting_Percent', 'Second_Language'])\nPopu_Multi[['Neighbourhood', 'Population', 'Density', 'Avg Income', 'Transit_Commuting_Percent', 'Second_Language']] = Popu_df[Popu_df.columns.values[[0,3,5,7,8,11]]]\nPopu_Multi.head()", 
            "cell_type": "code", 
            "execution_count": 279, 
            "outputs": [
                {
                    "execution_count": 279, 
                    "output_type": "execute_result", 
                    "data": {
                        "text/plain": "         Neighbourhood  Population  Density  Avg Income  \\\n0  Toronto CMA Average     5113149      866       40704   \n1            Agincourt       44577     3580       25750   \n2            Alderwood       11656     2360       35239   \n3       Alexandra Park        4355    13609       19687   \n4              Allenby        2513     4333      245592   \n\n   Transit_Commuting_Percent  Second_Language  \n0                       10.6              NaN  \n1                       11.1  19.3% Cantonese  \n2                        8.8     06.2% Polish  \n3                       13.8  17.9% Cantonese  \n4                        5.2    01.4% Russian  ", 
                        "text/html": "<div>\n<style scoped>\n    .dataframe tbody tr th:only-of-type {\n        vertical-align: middle;\n    }\n\n    .dataframe tbody tr th {\n        vertical-align: top;\n    }\n\n    .dataframe thead th {\n        text-align: right;\n    }\n</style>\n<table border=\"1\" class=\"dataframe\">\n  <thead>\n    <tr style=\"text-align: right;\">\n      <th></th>\n      <th>Neighbourhood</th>\n      <th>Population</th>\n      <th>Density</th>\n      <th>Avg Income</th>\n      <th>Transit_Commuting_Percent</th>\n      <th>Second_Language</th>\n    </tr>\n  </thead>\n  <tbody>\n    <tr>\n      <td>0</td>\n      <td>Toronto CMA Average</td>\n      <td>5113149</td>\n      <td>866</td>\n      <td>40704</td>\n      <td>10.6</td>\n      <td>NaN</td>\n    </tr>\n    <tr>\n      <td>1</td>\n      <td>Agincourt</td>\n      <td>44577</td>\n      <td>3580</td>\n      <td>25750</td>\n      <td>11.1</td>\n      <td>19.3% Cantonese</td>\n    </tr>\n    <tr>\n      <td>2</td>\n      <td>Alderwood</td>\n      <td>11656</td>\n      <td>2360</td>\n      <td>35239</td>\n      <td>8.8</td>\n      <td>06.2% Polish</td>\n    </tr>\n    <tr>\n      <td>3</td>\n      <td>Alexandra Park</td>\n      <td>4355</td>\n      <td>13609</td>\n      <td>19687</td>\n      <td>13.8</td>\n      <td>17.9% Cantonese</td>\n    </tr>\n    <tr>\n      <td>4</td>\n      <td>Allenby</td>\n      <td>2513</td>\n      <td>4333</td>\n      <td>245592</td>\n      <td>5.2</td>\n      <td>01.4% Russian</td>\n    </tr>\n  </tbody>\n</table>\n</div>"
                    }, 
                    "metadata": {}
                }
            ], 
            "metadata": {}
        }, 
        {
            "source": "# Removing first row which is not a neighbourhood\nPopu_Multi = Popu_Multi.iloc[1:]\nPopu_Multi.head()", 
            "cell_type": "code", 
            "execution_count": 280, 
            "outputs": [
                {
                    "execution_count": 280, 
                    "output_type": "execute_result", 
                    "data": {
                        "text/plain": "    Neighbourhood  Population  Density  Avg Income  Transit_Commuting_Percent  \\\n1       Agincourt       44577     3580       25750                       11.1   \n2       Alderwood       11656     2360       35239                        8.8   \n3  Alexandra Park        4355    13609       19687                       13.8   \n4         Allenby        2513     4333      245592                        5.2   \n5        Amesbury       17318     4934       27546                       16.4   \n\n   Second_Language  \n1  19.3% Cantonese  \n2     06.2% Polish  \n3  17.9% Cantonese  \n4    01.4% Russian  \n5    06.1% Spanish  ", 
                        "text/html": "<div>\n<style scoped>\n    .dataframe tbody tr th:only-of-type {\n        vertical-align: middle;\n    }\n\n    .dataframe tbody tr th {\n        vertical-align: top;\n    }\n\n    .dataframe thead th {\n        text-align: right;\n    }\n</style>\n<table border=\"1\" class=\"dataframe\">\n  <thead>\n    <tr style=\"text-align: right;\">\n      <th></th>\n      <th>Neighbourhood</th>\n      <th>Population</th>\n      <th>Density</th>\n      <th>Avg Income</th>\n      <th>Transit_Commuting_Percent</th>\n      <th>Second_Language</th>\n    </tr>\n  </thead>\n  <tbody>\n    <tr>\n      <td>1</td>\n      <td>Agincourt</td>\n      <td>44577</td>\n      <td>3580</td>\n      <td>25750</td>\n      <td>11.1</td>\n      <td>19.3% Cantonese</td>\n    </tr>\n    <tr>\n      <td>2</td>\n      <td>Alderwood</td>\n      <td>11656</td>\n      <td>2360</td>\n      <td>35239</td>\n      <td>8.8</td>\n      <td>06.2% Polish</td>\n    </tr>\n    <tr>\n      <td>3</td>\n      <td>Alexandra Park</td>\n      <td>4355</td>\n      <td>13609</td>\n      <td>19687</td>\n      <td>13.8</td>\n      <td>17.9% Cantonese</td>\n    </tr>\n    <tr>\n      <td>4</td>\n      <td>Allenby</td>\n      <td>2513</td>\n      <td>4333</td>\n      <td>245592</td>\n      <td>5.2</td>\n      <td>01.4% Russian</td>\n    </tr>\n    <tr>\n      <td>5</td>\n      <td>Amesbury</td>\n      <td>17318</td>\n      <td>4934</td>\n      <td>27546</td>\n      <td>16.4</td>\n      <td>06.1% Spanish</td>\n    </tr>\n  </tbody>\n</table>\n</div>"
                    }, 
                    "metadata": {}
                }
            ], 
            "metadata": {}
        }, 
        {
            "source": "Popu_Multi.reset_index(drop=True, inplace=True)", 
            "cell_type": "code", 
            "execution_count": 281, 
            "outputs": [], 
            "metadata": {}
        }, 
        {
            "source": "# Splitting the column values on the basis of % symbol to seperate percentage and respective population\npp = Popu_Multi['Second_Language'].str.split('%')\npp", 
            "cell_type": "code", 
            "execution_count": 282, 
            "outputs": [
                {
                    "execution_count": 282, 
                    "output_type": "execute_result", 
                    "data": {
                        "text/plain": "0       [19.3,  Cantonese]\n1          [06.2,  Polish]\n2       [17.9,  Cantonese]\n3         [01.4,  Russian]\n4         [06.1,  Spanish]\n              ...         \n169      [09.1,  Gujarati]\n170    [02.7,  Portuguese]\n171        [04.0,  Korean]\n172       [06.6,  Italian]\n173        [01.9,  French]\nName: Second_Language, Length: 174, dtype: object"
                    }, 
                    "metadata": {}
                }
            ], 
            "metadata": {}
        }, 
        {
            "source": "Popu_Multi.drop(columns = 'Second_Language', axis=1, inplace = True)", 
            "cell_type": "code", 
            "execution_count": 283, 
            "outputs": [], 
            "metadata": {}
        }, 
        {
            "source": "Popu_Multi['Second_Language_Percent'] = [t[0] for t in pp]\nPopu_Multi['Second_Language'] = [t[1].strip() for t in pp]\nPopu_Multi.head()", 
            "cell_type": "code", 
            "execution_count": 284, 
            "outputs": [
                {
                    "execution_count": 284, 
                    "output_type": "execute_result", 
                    "data": {
                        "text/plain": "    Neighbourhood  Population  Density  Avg Income  Transit_Commuting_Percent  \\\n0       Agincourt       44577     3580       25750                       11.1   \n1       Alderwood       11656     2360       35239                        8.8   \n2  Alexandra Park        4355    13609       19687                       13.8   \n3         Allenby        2513     4333      245592                        5.2   \n4        Amesbury       17318     4934       27546                       16.4   \n\n  Second_Language_Percent Second_Language  \n0                    19.3       Cantonese  \n1                    06.2          Polish  \n2                    17.9       Cantonese  \n3                    01.4         Russian  \n4                    06.1         Spanish  ", 
                        "text/html": "<div>\n<style scoped>\n    .dataframe tbody tr th:only-of-type {\n        vertical-align: middle;\n    }\n\n    .dataframe tbody tr th {\n        vertical-align: top;\n    }\n\n    .dataframe thead th {\n        text-align: right;\n    }\n</style>\n<table border=\"1\" class=\"dataframe\">\n  <thead>\n    <tr style=\"text-align: right;\">\n      <th></th>\n      <th>Neighbourhood</th>\n      <th>Population</th>\n      <th>Density</th>\n      <th>Avg Income</th>\n      <th>Transit_Commuting_Percent</th>\n      <th>Second_Language_Percent</th>\n      <th>Second_Language</th>\n    </tr>\n  </thead>\n  <tbody>\n    <tr>\n      <td>0</td>\n      <td>Agincourt</td>\n      <td>44577</td>\n      <td>3580</td>\n      <td>25750</td>\n      <td>11.1</td>\n      <td>19.3</td>\n      <td>Cantonese</td>\n    </tr>\n    <tr>\n      <td>1</td>\n      <td>Alderwood</td>\n      <td>11656</td>\n      <td>2360</td>\n      <td>35239</td>\n      <td>8.8</td>\n      <td>06.2</td>\n      <td>Polish</td>\n    </tr>\n    <tr>\n      <td>2</td>\n      <td>Alexandra Park</td>\n      <td>4355</td>\n      <td>13609</td>\n      <td>19687</td>\n      <td>13.8</td>\n      <td>17.9</td>\n      <td>Cantonese</td>\n    </tr>\n    <tr>\n      <td>3</td>\n      <td>Allenby</td>\n      <td>2513</td>\n      <td>4333</td>\n      <td>245592</td>\n      <td>5.2</td>\n      <td>01.4</td>\n      <td>Russian</td>\n    </tr>\n    <tr>\n      <td>4</td>\n      <td>Amesbury</td>\n      <td>17318</td>\n      <td>4934</td>\n      <td>27546</td>\n      <td>16.4</td>\n      <td>06.1</td>\n      <td>Spanish</td>\n    </tr>\n  </tbody>\n</table>\n</div>"
                    }, 
                    "metadata": {}
                }
            ], 
            "metadata": {}
        }, 
        {
            "source": "", 
            "cell_type": "code", 
            "execution_count": null, 
            "outputs": [], 
            "metadata": {}
        }, 
        {
            "source": "# Neighbourhood Name seperation from alternate names and/or old names\nfirstname = Popu_Multi['Neighbourhood'].str.split(\"-|\u2013|/|\\(\")\nPopu_Multi.drop('Neighbourhood', axis=1, inplace=True)\nPopu_Multi['Neighbourhood'] = [tmp[0].strip() for tmp in firstname]\n", 
            "cell_type": "code", 
            "execution_count": 285, 
            "outputs": [], 
            "metadata": {}
        }, 
        {
            "source": "Popu_Multi['Neighbourhood'] = Popu_Multi['Neighbourhood'].str.replace('The', '')\nPopu_Multi['Neighbourhood'] = Popu_Multi['Neighbourhood'].str.replace('North', '')\nPopu_Multi['Neighbourhood'] = Popu_Multi['Neighbourhood'].str.replace('South', '')\nPopu_Multi['Neighbourhood'] = Popu_Multi['Neighbourhood'].str.replace('East', '')\nPopu_Multi['Neighbourhood'] = Popu_Multi['Neighbourhood'].str.replace('West', '')\nPopu_Multi['Neighbourhood'] = [tmp.strip() for tmp in Popu_Multi['Neighbourhood']]", 
            "cell_type": "code", 
            "execution_count": 286, 
            "outputs": [], 
            "metadata": {}
        }, 
        {
            "source": "Popu_Multi.head()", 
            "cell_type": "code", 
            "execution_count": 287, 
            "outputs": [
                {
                    "execution_count": 287, 
                    "output_type": "execute_result", 
                    "data": {
                        "text/plain": "   Population  Density  Avg Income  Transit_Commuting_Percent  \\\n0       44577     3580       25750                       11.1   \n1       11656     2360       35239                        8.8   \n2        4355    13609       19687                       13.8   \n3        2513     4333      245592                        5.2   \n4       17318     4934       27546                       16.4   \n\n  Second_Language_Percent Second_Language   Neighbourhood  \n0                    19.3       Cantonese       Agincourt  \n1                    06.2          Polish       Alderwood  \n2                    17.9       Cantonese  Alexandra Park  \n3                    01.4         Russian         Allenby  \n4                    06.1         Spanish        Amesbury  ", 
                        "text/html": "<div>\n<style scoped>\n    .dataframe tbody tr th:only-of-type {\n        vertical-align: middle;\n    }\n\n    .dataframe tbody tr th {\n        vertical-align: top;\n    }\n\n    .dataframe thead th {\n        text-align: right;\n    }\n</style>\n<table border=\"1\" class=\"dataframe\">\n  <thead>\n    <tr style=\"text-align: right;\">\n      <th></th>\n      <th>Population</th>\n      <th>Density</th>\n      <th>Avg Income</th>\n      <th>Transit_Commuting_Percent</th>\n      <th>Second_Language_Percent</th>\n      <th>Second_Language</th>\n      <th>Neighbourhood</th>\n    </tr>\n  </thead>\n  <tbody>\n    <tr>\n      <td>0</td>\n      <td>44577</td>\n      <td>3580</td>\n      <td>25750</td>\n      <td>11.1</td>\n      <td>19.3</td>\n      <td>Cantonese</td>\n      <td>Agincourt</td>\n    </tr>\n    <tr>\n      <td>1</td>\n      <td>11656</td>\n      <td>2360</td>\n      <td>35239</td>\n      <td>8.8</td>\n      <td>06.2</td>\n      <td>Polish</td>\n      <td>Alderwood</td>\n    </tr>\n    <tr>\n      <td>2</td>\n      <td>4355</td>\n      <td>13609</td>\n      <td>19687</td>\n      <td>13.8</td>\n      <td>17.9</td>\n      <td>Cantonese</td>\n      <td>Alexandra Park</td>\n    </tr>\n    <tr>\n      <td>3</td>\n      <td>2513</td>\n      <td>4333</td>\n      <td>245592</td>\n      <td>5.2</td>\n      <td>01.4</td>\n      <td>Russian</td>\n      <td>Allenby</td>\n    </tr>\n    <tr>\n      <td>4</td>\n      <td>17318</td>\n      <td>4934</td>\n      <td>27546</td>\n      <td>16.4</td>\n      <td>06.1</td>\n      <td>Spanish</td>\n      <td>Amesbury</td>\n    </tr>\n  </tbody>\n</table>\n</div>"
                    }, 
                    "metadata": {}
                }
            ], 
            "metadata": {}
        }, 
        {
            "source": "Popu_Multi.shape", 
            "cell_type": "code", 
            "execution_count": 288, 
            "outputs": [
                {
                    "execution_count": 288, 
                    "output_type": "execute_result", 
                    "data": {
                        "text/plain": "(174, 7)"
                    }, 
                    "metadata": {}
                }
            ], 
            "metadata": {}
        }, 
        {
            "source": "# setting last column location to first\nPopu_Multi = Popu_Multi[Popu_Multi.columns[[6,0,1,2,3,4,5]]]", 
            "cell_type": "code", 
            "execution_count": 289, 
            "outputs": [], 
            "metadata": {}
        }, 
        {
            "source": "Popu_Multi.head()", 
            "cell_type": "code", 
            "execution_count": 290, 
            "outputs": [
                {
                    "execution_count": 290, 
                    "output_type": "execute_result", 
                    "data": {
                        "text/plain": "    Neighbourhood  Population  Density  Avg Income  Transit_Commuting_Percent  \\\n0       Agincourt       44577     3580       25750                       11.1   \n1       Alderwood       11656     2360       35239                        8.8   \n2  Alexandra Park        4355    13609       19687                       13.8   \n3         Allenby        2513     4333      245592                        5.2   \n4        Amesbury       17318     4934       27546                       16.4   \n\n  Second_Language_Percent Second_Language  \n0                    19.3       Cantonese  \n1                    06.2          Polish  \n2                    17.9       Cantonese  \n3                    01.4         Russian  \n4                    06.1         Spanish  ", 
                        "text/html": "<div>\n<style scoped>\n    .dataframe tbody tr th:only-of-type {\n        vertical-align: middle;\n    }\n\n    .dataframe tbody tr th {\n        vertical-align: top;\n    }\n\n    .dataframe thead th {\n        text-align: right;\n    }\n</style>\n<table border=\"1\" class=\"dataframe\">\n  <thead>\n    <tr style=\"text-align: right;\">\n      <th></th>\n      <th>Neighbourhood</th>\n      <th>Population</th>\n      <th>Density</th>\n      <th>Avg Income</th>\n      <th>Transit_Commuting_Percent</th>\n      <th>Second_Language_Percent</th>\n      <th>Second_Language</th>\n    </tr>\n  </thead>\n  <tbody>\n    <tr>\n      <td>0</td>\n      <td>Agincourt</td>\n      <td>44577</td>\n      <td>3580</td>\n      <td>25750</td>\n      <td>11.1</td>\n      <td>19.3</td>\n      <td>Cantonese</td>\n    </tr>\n    <tr>\n      <td>1</td>\n      <td>Alderwood</td>\n      <td>11656</td>\n      <td>2360</td>\n      <td>35239</td>\n      <td>8.8</td>\n      <td>06.2</td>\n      <td>Polish</td>\n    </tr>\n    <tr>\n      <td>2</td>\n      <td>Alexandra Park</td>\n      <td>4355</td>\n      <td>13609</td>\n      <td>19687</td>\n      <td>13.8</td>\n      <td>17.9</td>\n      <td>Cantonese</td>\n    </tr>\n    <tr>\n      <td>3</td>\n      <td>Allenby</td>\n      <td>2513</td>\n      <td>4333</td>\n      <td>245592</td>\n      <td>5.2</td>\n      <td>01.4</td>\n      <td>Russian</td>\n    </tr>\n    <tr>\n      <td>4</td>\n      <td>Amesbury</td>\n      <td>17318</td>\n      <td>4934</td>\n      <td>27546</td>\n      <td>16.4</td>\n      <td>06.1</td>\n      <td>Spanish</td>\n    </tr>\n  </tbody>\n</table>\n</div>"
                    }, 
                    "metadata": {}
                }
            ], 
            "metadata": {}
        }, 
        {
            "source": "", 
            "cell_type": "code", 
            "execution_count": null, 
            "outputs": [], 
            "metadata": {}
        }, 
        {
            "source": "Popu_Multi.dtypes", 
            "cell_type": "code", 
            "execution_count": 291, 
            "outputs": [
                {
                    "execution_count": 291, 
                    "output_type": "execute_result", 
                    "data": {
                        "text/plain": "Neighbourhood                 object\nPopulation                     int64\nDensity                        int64\nAvg Income                     int64\nTransit_Commuting_Percent    float64\nSecond_Language_Percent       object\nSecond_Language               object\ndtype: object"
                    }, 
                    "metadata": {}
                }
            ], 
            "metadata": {}
        }, 
        {
            "source": "# People with Second_Language_Percent in a Neighbourhood should be a floating type value so is converted\nPopu_Multi['Second_Language_Percent'] = Popu_Multi['Second_Language_Percent'].astype(float)", 
            "cell_type": "code", 
            "execution_count": 292, 
            "outputs": [], 
            "metadata": {}
        }, 
        {
            "source": "Popu_Multi.head(3)", 
            "cell_type": "code", 
            "execution_count": 293, 
            "outputs": [
                {
                    "execution_count": 293, 
                    "output_type": "execute_result", 
                    "data": {
                        "text/plain": "    Neighbourhood  Population  Density  Avg Income  Transit_Commuting_Percent  \\\n0       Agincourt       44577     3580       25750                       11.1   \n1       Alderwood       11656     2360       35239                        8.8   \n2  Alexandra Park        4355    13609       19687                       13.8   \n\n   Second_Language_Percent Second_Language  \n0                     19.3       Cantonese  \n1                      6.2          Polish  \n2                     17.9       Cantonese  ", 
                        "text/html": "<div>\n<style scoped>\n    .dataframe tbody tr th:only-of-type {\n        vertical-align: middle;\n    }\n\n    .dataframe tbody tr th {\n        vertical-align: top;\n    }\n\n    .dataframe thead th {\n        text-align: right;\n    }\n</style>\n<table border=\"1\" class=\"dataframe\">\n  <thead>\n    <tr style=\"text-align: right;\">\n      <th></th>\n      <th>Neighbourhood</th>\n      <th>Population</th>\n      <th>Density</th>\n      <th>Avg Income</th>\n      <th>Transit_Commuting_Percent</th>\n      <th>Second_Language_Percent</th>\n      <th>Second_Language</th>\n    </tr>\n  </thead>\n  <tbody>\n    <tr>\n      <td>0</td>\n      <td>Agincourt</td>\n      <td>44577</td>\n      <td>3580</td>\n      <td>25750</td>\n      <td>11.1</td>\n      <td>19.3</td>\n      <td>Cantonese</td>\n    </tr>\n    <tr>\n      <td>1</td>\n      <td>Alderwood</td>\n      <td>11656</td>\n      <td>2360</td>\n      <td>35239</td>\n      <td>8.8</td>\n      <td>6.2</td>\n      <td>Polish</td>\n    </tr>\n    <tr>\n      <td>2</td>\n      <td>Alexandra Park</td>\n      <td>4355</td>\n      <td>13609</td>\n      <td>19687</td>\n      <td>13.8</td>\n      <td>17.9</td>\n      <td>Cantonese</td>\n    </tr>\n  </tbody>\n</table>\n</div>"
                    }, 
                    "metadata": {}
                }
            ], 
            "metadata": {}
        }, 
        {
            "source": "Popu_Multi.dtypes", 
            "cell_type": "code", 
            "execution_count": 294, 
            "outputs": [
                {
                    "execution_count": 294, 
                    "output_type": "execute_result", 
                    "data": {
                        "text/plain": "Neighbourhood                 object\nPopulation                     int64\nDensity                        int64\nAvg Income                     int64\nTransit_Commuting_Percent    float64\nSecond_Language_Percent      float64\nSecond_Language               object\ndtype: object"
                    }, 
                    "metadata": {}
                }
            ], 
            "metadata": {}
        }, 
        {
            "source": "# Converting Values against 'Italian' as Second Language to 1 else 0, to focus on Italian Community\n\nfor i, elm in enumerate(Popu_Multi['Second_Language']):\n    if elm != 'Italian': \n        Popu_Multi['Second_Language_Percent'].loc[i]=0\n\nPopu_Multi = Popu_Multi.drop('Second_Language', axis=1)\n", 
            "cell_type": "code", 
            "execution_count": 295, 
            "outputs": [], 
            "metadata": {}
        }, 
        {
            "source": "Popu_Multi.head()", 
            "cell_type": "code", 
            "execution_count": 297, 
            "outputs": [
                {
                    "execution_count": 297, 
                    "output_type": "execute_result", 
                    "data": {
                        "text/plain": "    Neighbourhood  Population  Density  Avg Income  Transit_Commuting_Percent  \\\n0       Agincourt       44577     3580       25750                       11.1   \n1       Alderwood       11656     2360       35239                        8.8   \n2  Alexandra Park        4355    13609       19687                       13.8   \n3         Allenby        2513     4333      245592                        5.2   \n4        Amesbury       17318     4934       27546                       16.4   \n\n   Second_Language_Percent  \n0                      0.0  \n1                      0.0  \n2                      0.0  \n3                      0.0  \n4                      0.0  ", 
                        "text/html": "<div>\n<style scoped>\n    .dataframe tbody tr th:only-of-type {\n        vertical-align: middle;\n    }\n\n    .dataframe tbody tr th {\n        vertical-align: top;\n    }\n\n    .dataframe thead th {\n        text-align: right;\n    }\n</style>\n<table border=\"1\" class=\"dataframe\">\n  <thead>\n    <tr style=\"text-align: right;\">\n      <th></th>\n      <th>Neighbourhood</th>\n      <th>Population</th>\n      <th>Density</th>\n      <th>Avg Income</th>\n      <th>Transit_Commuting_Percent</th>\n      <th>Second_Language_Percent</th>\n    </tr>\n  </thead>\n  <tbody>\n    <tr>\n      <td>0</td>\n      <td>Agincourt</td>\n      <td>44577</td>\n      <td>3580</td>\n      <td>25750</td>\n      <td>11.1</td>\n      <td>0.0</td>\n    </tr>\n    <tr>\n      <td>1</td>\n      <td>Alderwood</td>\n      <td>11656</td>\n      <td>2360</td>\n      <td>35239</td>\n      <td>8.8</td>\n      <td>0.0</td>\n    </tr>\n    <tr>\n      <td>2</td>\n      <td>Alexandra Park</td>\n      <td>4355</td>\n      <td>13609</td>\n      <td>19687</td>\n      <td>13.8</td>\n      <td>0.0</td>\n    </tr>\n    <tr>\n      <td>3</td>\n      <td>Allenby</td>\n      <td>2513</td>\n      <td>4333</td>\n      <td>245592</td>\n      <td>5.2</td>\n      <td>0.0</td>\n    </tr>\n    <tr>\n      <td>4</td>\n      <td>Amesbury</td>\n      <td>17318</td>\n      <td>4934</td>\n      <td>27546</td>\n      <td>16.4</td>\n      <td>0.0</td>\n    </tr>\n  </tbody>\n</table>\n</div>"
                    }, 
                    "metadata": {}
                }
            ], 
            "metadata": {}
        }, 
        {
            "source": "", 
            "cell_type": "code", 
            "execution_count": null, 
            "outputs": [], 
            "metadata": {}
        }, 
        {
            "source": "", 
            "cell_type": "code", 
            "execution_count": null, 
            "outputs": [], 
            "metadata": {}
        }, 
        {
            "source": "", 
            "cell_type": "code", 
            "execution_count": null, 
            "outputs": [], 
            "metadata": {}
        }, 
        {
            "source": "", 
            "cell_type": "code", 
            "execution_count": null, 
            "outputs": [], 
            "metadata": {}
        }, 
        {
            "source": "", 
            "cell_type": "code", 
            "execution_count": null, 
            "outputs": [], 
            "metadata": {}
        }, 
        {
            "source": "Popu_Multi.to_csv('CS_Population_Multiple_Data.csv', index=False)", 
            "cell_type": "code", 
            "execution_count": 298, 
            "outputs": [], 
            "metadata": {}
        }, 
        {
            "source": "", 
            "cell_type": "code", 
            "execution_count": null, 
            "outputs": [], 
            "metadata": {}
        }, 
        {
            "source": "", 
            "cell_type": "code", 
            "execution_count": null, 
            "outputs": [], 
            "metadata": {}
        }
    ], 
    "nbformat": 4, 
    "metadata": {
        "kernelspec": {
            "display_name": "Python 3.6", 
            "name": "python3", 
            "language": "python"
        }, 
        "language_info": {
            "mimetype": "text/x-python", 
            "nbconvert_exporter": "python", 
            "version": "3.6.8", 
            "name": "python", 
            "pygments_lexer": "ipython3", 
            "file_extension": ".py", 
            "codemirror_mode": {
                "version": 3, 
                "name": "ipython"
            }
        }
    }
}