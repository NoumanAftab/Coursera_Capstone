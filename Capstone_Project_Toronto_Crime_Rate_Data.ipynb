{
    "nbformat_minor": 4, 
    "cells": [
        {
            "source": "# Toronto Neighbourhood Crime Data\n## Extraction of Employment Data from Neighbourhood_Crime_Rates_Boundary_File_.csv http://data.torontopolice.on.ca/datasets/neighbourhood-crime-rates-boundary-file-/data", 
            "cell_type": "markdown", 
            "metadata": {}
        }, 
        {
            "execution_count": 20, 
            "cell_type": "code", 
            "source": "import pandas as pd\nimport numpy as np", 
            "outputs": [], 
            "metadata": {}
        }, 
        {
            "execution_count": 21, 
            "cell_type": "code", 
            "source": "#!conda update -n base -c defaults conda --yes", 
            "outputs": [], 
            "metadata": {}
        }, 
        {
            "execution_count": 22, 
            "cell_type": "code", 
            "source": "#!conda install -c anaconda xlrd --yes", 
            "outputs": [], 
            "metadata": {}
        }, 
        {
            "execution_count": null, 
            "cell_type": "code", 
            "source": "", 
            "outputs": [], 
            "metadata": {}
        }, 
        {
            "execution_count": 23, 
            "cell_type": "code", 
            "source": "NC_df = pd.read_csv('Neighbourhood_Crime_Rates_Boundary_File_.csv')\n#NC_df.info()\nNC_df.head()", 
            "outputs": [
                {
                    "execution_count": 23, 
                    "output_type": "execute_result", 
                    "data": {
                        "text/plain": "   OBJECTID Neighbourhood_Crime_Rates_Neigh  Neighbourhood_Crime_Rates_Hood_  \\\n0         1                  Yonge-St.Clair                               97   \n1         2         York University Heights                               27   \n2         3                Lansing-Westgate                               38   \n3         4              Yorkdale-Glen Park                               31   \n4         5             Stonegate-Queensway                               16   \n\n   Hood_ID            Neighbourhood  Assault_2014  Assault_2015  Assault_2016  \\\n0       97           Yonge-St.Clair            58            38            51   \n1       27  York University Heights            78           101           111   \n2       38         Lansing-Westgate           216           203           223   \n3       31       Yorkdale-Glen Park           121           141           136   \n4       16      Stonegate-Queensway           109           140           124   \n\n   Assault_2017  Assault_2018  ...  Homicide_2015 Homicide_2016  \\\n0            46            61  ...              0             0   \n1           120           138  ...              0             2   \n2           226           197  ...              0             0   \n3           124           127  ...              1             1   \n4           112           128  ...              0             0   \n\n   Homicide_2017  Homicide_2018  Homicide_AVG  Homicide_CHG  \\\n0              0              0           NaN           NaN   \n1              0              1           1.3           NaN   \n2              0              0           NaN           NaN   \n3              1              2           1.2          100%   \n4              0              0           1.0           NaN   \n\n   Homicide_Rate_2018  Population   Shape__Area Shape__Length  \n0                 0.0        3189  1.161315e+06   5873.270507  \n1                 2.7       36764  1.324666e+07  18504.777616  \n2                 0.0       10242  5.346186e+06  11112.109419  \n3                11.0       18233  6.038326e+06  10079.426837  \n4                 0.0       22207  7.946202e+06  11853.189803  \n\n[5 rows x 56 columns]", 
                        "text/html": "<div>\n<style scoped>\n    .dataframe tbody tr th:only-of-type {\n        vertical-align: middle;\n    }\n\n    .dataframe tbody tr th {\n        vertical-align: top;\n    }\n\n    .dataframe thead th {\n        text-align: right;\n    }\n</style>\n<table border=\"1\" class=\"dataframe\">\n  <thead>\n    <tr style=\"text-align: right;\">\n      <th></th>\n      <th>OBJECTID</th>\n      <th>Neighbourhood_Crime_Rates_Neigh</th>\n      <th>Neighbourhood_Crime_Rates_Hood_</th>\n      <th>Hood_ID</th>\n      <th>Neighbourhood</th>\n      <th>Assault_2014</th>\n      <th>Assault_2015</th>\n      <th>Assault_2016</th>\n      <th>Assault_2017</th>\n      <th>Assault_2018</th>\n      <th>...</th>\n      <th>Homicide_2015</th>\n      <th>Homicide_2016</th>\n      <th>Homicide_2017</th>\n      <th>Homicide_2018</th>\n      <th>Homicide_AVG</th>\n      <th>Homicide_CHG</th>\n      <th>Homicide_Rate_2018</th>\n      <th>Population</th>\n      <th>Shape__Area</th>\n      <th>Shape__Length</th>\n    </tr>\n  </thead>\n  <tbody>\n    <tr>\n      <td>0</td>\n      <td>1</td>\n      <td>Yonge-St.Clair</td>\n      <td>97</td>\n      <td>97</td>\n      <td>Yonge-St.Clair</td>\n      <td>58</td>\n      <td>38</td>\n      <td>51</td>\n      <td>46</td>\n      <td>61</td>\n      <td>...</td>\n      <td>0</td>\n      <td>0</td>\n      <td>0</td>\n      <td>0</td>\n      <td>NaN</td>\n      <td>NaN</td>\n      <td>0.0</td>\n      <td>3189</td>\n      <td>1.161315e+06</td>\n      <td>5873.270507</td>\n    </tr>\n    <tr>\n      <td>1</td>\n      <td>2</td>\n      <td>York University Heights</td>\n      <td>27</td>\n      <td>27</td>\n      <td>York University Heights</td>\n      <td>78</td>\n      <td>101</td>\n      <td>111</td>\n      <td>120</td>\n      <td>138</td>\n      <td>...</td>\n      <td>0</td>\n      <td>2</td>\n      <td>0</td>\n      <td>1</td>\n      <td>1.3</td>\n      <td>NaN</td>\n      <td>2.7</td>\n      <td>36764</td>\n      <td>1.324666e+07</td>\n      <td>18504.777616</td>\n    </tr>\n    <tr>\n      <td>2</td>\n      <td>3</td>\n      <td>Lansing-Westgate</td>\n      <td>38</td>\n      <td>38</td>\n      <td>Lansing-Westgate</td>\n      <td>216</td>\n      <td>203</td>\n      <td>223</td>\n      <td>226</td>\n      <td>197</td>\n      <td>...</td>\n      <td>0</td>\n      <td>0</td>\n      <td>0</td>\n      <td>0</td>\n      <td>NaN</td>\n      <td>NaN</td>\n      <td>0.0</td>\n      <td>10242</td>\n      <td>5.346186e+06</td>\n      <td>11112.109419</td>\n    </tr>\n    <tr>\n      <td>3</td>\n      <td>4</td>\n      <td>Yorkdale-Glen Park</td>\n      <td>31</td>\n      <td>31</td>\n      <td>Yorkdale-Glen Park</td>\n      <td>121</td>\n      <td>141</td>\n      <td>136</td>\n      <td>124</td>\n      <td>127</td>\n      <td>...</td>\n      <td>1</td>\n      <td>1</td>\n      <td>1</td>\n      <td>2</td>\n      <td>1.2</td>\n      <td>100%</td>\n      <td>11.0</td>\n      <td>18233</td>\n      <td>6.038326e+06</td>\n      <td>10079.426837</td>\n    </tr>\n    <tr>\n      <td>4</td>\n      <td>5</td>\n      <td>Stonegate-Queensway</td>\n      <td>16</td>\n      <td>16</td>\n      <td>Stonegate-Queensway</td>\n      <td>109</td>\n      <td>140</td>\n      <td>124</td>\n      <td>112</td>\n      <td>128</td>\n      <td>...</td>\n      <td>0</td>\n      <td>0</td>\n      <td>0</td>\n      <td>0</td>\n      <td>1.0</td>\n      <td>NaN</td>\n      <td>0.0</td>\n      <td>22207</td>\n      <td>7.946202e+06</td>\n      <td>11853.189803</td>\n    </tr>\n  </tbody>\n</table>\n<p>5 rows \u00d7 56 columns</p>\n</div>"
                    }, 
                    "metadata": {}
                }
            ], 
            "metadata": {}
        }, 
        {
            "execution_count": 24, 
            "cell_type": "code", 
            "source": "NC_df.columns\n#NC_df.shape", 
            "outputs": [
                {
                    "execution_count": 24, 
                    "output_type": "execute_result", 
                    "data": {
                        "text/plain": "Index(['OBJECTID', 'Neighbourhood_Crime_Rates_Neigh',\n       'Neighbourhood_Crime_Rates_Hood_', 'Hood_ID', 'Neighbourhood',\n       'Assault_2014', 'Assault_2015', 'Assault_2016', 'Assault_2017',\n       'Assault_2018', 'Assault_AVG', 'Assault_CHG', 'Assault_Rate_2018',\n       'Auto_Theft_2014', 'Auto_Theft_2015', 'Auto_Theft_2016',\n       'Auto_Theft_2017', 'Auto_Theft_2018', 'AutoTheft_AVG', 'AutoTheft_CHG',\n       'AutoTheft_Rate_2018', 'BreakandEnter_2014', 'BreakandEnter_2015',\n       'BreakandEnter_2016', 'BreakandEnter_2017', 'BreakandEnter_2018',\n       'BreakandEnter_AVG', 'BreakandEnter_CHG', 'BreakandEnter_Rate_2018',\n       'Robbery_2014', 'Robbery_2015', 'Robbery_2016', 'Robbery_2017',\n       'Robbery_2018', 'Robbery_AVG', 'Robbery_CHG', 'Robbery_Rate_2018',\n       'Theft_Over_2014', 'Theft_Over_2015', 'Theft_Over_2016',\n       'Theft_Over_2017', 'Theft_Over_2018', 'TheftOver_AVG', 'TheftOver_CHG',\n       'TheftOver_Rate_2018', 'Homicide_2014', 'Homicide_2015',\n       'Homicide_2016', 'Homicide_2017', 'Homicide_2018', 'Homicide_AVG',\n       'Homicide_CHG', 'Homicide_Rate_2018', 'Population', 'Shape__Area',\n       'Shape__Length'],\n      dtype='object')"
                    }, 
                    "metadata": {}
                }
            ], 
            "metadata": {}
        }, 
        {
            "execution_count": 25, 
            "cell_type": "code", 
            "source": "NC_df = NC_df.get(['Neighbourhood','Assault_AVG','AutoTheft_AVG','BreakandEnter_AVG','Robbery_AVG', 'TheftOver_AVG','Homicide_AVG'])\nNC_df.head()", 
            "outputs": [
                {
                    "execution_count": 25, 
                    "output_type": "execute_result", 
                    "data": {
                        "text/plain": "             Neighbourhood  Assault_AVG  AutoTheft_AVG  BreakandEnter_AVG  \\\n0           Yonge-St.Clair         50.8           39.4               25.6   \n1  York University Heights        109.6           15.8               49.8   \n2         Lansing-Westgate        213.0           25.4               63.6   \n3       Yorkdale-Glen Park        129.8           31.4               57.0   \n4      Stonegate-Queensway        122.6           22.8               39.4   \n\n   Robbery_AVG  TheftOver_AVG  Homicide_AVG  \n0         18.2            4.4           NaN  \n1         23.8            3.8           1.3  \n2         53.4            5.4           NaN  \n3         29.8            9.0           1.2  \n4         33.4            5.2           1.0  ", 
                        "text/html": "<div>\n<style scoped>\n    .dataframe tbody tr th:only-of-type {\n        vertical-align: middle;\n    }\n\n    .dataframe tbody tr th {\n        vertical-align: top;\n    }\n\n    .dataframe thead th {\n        text-align: right;\n    }\n</style>\n<table border=\"1\" class=\"dataframe\">\n  <thead>\n    <tr style=\"text-align: right;\">\n      <th></th>\n      <th>Neighbourhood</th>\n      <th>Assault_AVG</th>\n      <th>AutoTheft_AVG</th>\n      <th>BreakandEnter_AVG</th>\n      <th>Robbery_AVG</th>\n      <th>TheftOver_AVG</th>\n      <th>Homicide_AVG</th>\n    </tr>\n  </thead>\n  <tbody>\n    <tr>\n      <td>0</td>\n      <td>Yonge-St.Clair</td>\n      <td>50.8</td>\n      <td>39.4</td>\n      <td>25.6</td>\n      <td>18.2</td>\n      <td>4.4</td>\n      <td>NaN</td>\n    </tr>\n    <tr>\n      <td>1</td>\n      <td>York University Heights</td>\n      <td>109.6</td>\n      <td>15.8</td>\n      <td>49.8</td>\n      <td>23.8</td>\n      <td>3.8</td>\n      <td>1.3</td>\n    </tr>\n    <tr>\n      <td>2</td>\n      <td>Lansing-Westgate</td>\n      <td>213.0</td>\n      <td>25.4</td>\n      <td>63.6</td>\n      <td>53.4</td>\n      <td>5.4</td>\n      <td>NaN</td>\n    </tr>\n    <tr>\n      <td>3</td>\n      <td>Yorkdale-Glen Park</td>\n      <td>129.8</td>\n      <td>31.4</td>\n      <td>57.0</td>\n      <td>29.8</td>\n      <td>9.0</td>\n      <td>1.2</td>\n    </tr>\n    <tr>\n      <td>4</td>\n      <td>Stonegate-Queensway</td>\n      <td>122.6</td>\n      <td>22.8</td>\n      <td>39.4</td>\n      <td>33.4</td>\n      <td>5.2</td>\n      <td>1.0</td>\n    </tr>\n  </tbody>\n</table>\n</div>"
                    }, 
                    "metadata": {}
                }
            ], 
            "metadata": {}
        }, 
        {
            "execution_count": 26, 
            "cell_type": "code", 
            "source": "# Replacing NaN to zero value to get the average crime data for each neighbourhood\nNC_df.replace(np.nan, 0, inplace=True)\nNC_df.head(3)", 
            "outputs": [
                {
                    "execution_count": 26, 
                    "output_type": "execute_result", 
                    "data": {
                        "text/plain": "             Neighbourhood  Assault_AVG  AutoTheft_AVG  BreakandEnter_AVG  \\\n0           Yonge-St.Clair         50.8           39.4               25.6   \n1  York University Heights        109.6           15.8               49.8   \n2         Lansing-Westgate        213.0           25.4               63.6   \n\n   Robbery_AVG  TheftOver_AVG  Homicide_AVG  \n0         18.2            4.4           0.0  \n1         23.8            3.8           1.3  \n2         53.4            5.4           0.0  ", 
                        "text/html": "<div>\n<style scoped>\n    .dataframe tbody tr th:only-of-type {\n        vertical-align: middle;\n    }\n\n    .dataframe tbody tr th {\n        vertical-align: top;\n    }\n\n    .dataframe thead th {\n        text-align: right;\n    }\n</style>\n<table border=\"1\" class=\"dataframe\">\n  <thead>\n    <tr style=\"text-align: right;\">\n      <th></th>\n      <th>Neighbourhood</th>\n      <th>Assault_AVG</th>\n      <th>AutoTheft_AVG</th>\n      <th>BreakandEnter_AVG</th>\n      <th>Robbery_AVG</th>\n      <th>TheftOver_AVG</th>\n      <th>Homicide_AVG</th>\n    </tr>\n  </thead>\n  <tbody>\n    <tr>\n      <td>0</td>\n      <td>Yonge-St.Clair</td>\n      <td>50.8</td>\n      <td>39.4</td>\n      <td>25.6</td>\n      <td>18.2</td>\n      <td>4.4</td>\n      <td>0.0</td>\n    </tr>\n    <tr>\n      <td>1</td>\n      <td>York University Heights</td>\n      <td>109.6</td>\n      <td>15.8</td>\n      <td>49.8</td>\n      <td>23.8</td>\n      <td>3.8</td>\n      <td>1.3</td>\n    </tr>\n    <tr>\n      <td>2</td>\n      <td>Lansing-Westgate</td>\n      <td>213.0</td>\n      <td>25.4</td>\n      <td>63.6</td>\n      <td>53.4</td>\n      <td>5.4</td>\n      <td>0.0</td>\n    </tr>\n  </tbody>\n</table>\n</div>"
                    }, 
                    "metadata": {}
                }
            ], 
            "metadata": {}
        }, 
        {
            "execution_count": 27, 
            "cell_type": "code", 
            "source": "NC_df['Avg Crime'] = round(NC_df.mean(axis=1), 2)\nNC_df.head(3)", 
            "outputs": [
                {
                    "execution_count": 27, 
                    "output_type": "execute_result", 
                    "data": {
                        "text/plain": "             Neighbourhood  Assault_AVG  AutoTheft_AVG  BreakandEnter_AVG  \\\n0           Yonge-St.Clair         50.8           39.4               25.6   \n1  York University Heights        109.6           15.8               49.8   \n2         Lansing-Westgate        213.0           25.4               63.6   \n\n   Robbery_AVG  TheftOver_AVG  Homicide_AVG  Avg Crime  \n0         18.2            4.4           0.0      23.07  \n1         23.8            3.8           1.3      34.02  \n2         53.4            5.4           0.0      60.13  ", 
                        "text/html": "<div>\n<style scoped>\n    .dataframe tbody tr th:only-of-type {\n        vertical-align: middle;\n    }\n\n    .dataframe tbody tr th {\n        vertical-align: top;\n    }\n\n    .dataframe thead th {\n        text-align: right;\n    }\n</style>\n<table border=\"1\" class=\"dataframe\">\n  <thead>\n    <tr style=\"text-align: right;\">\n      <th></th>\n      <th>Neighbourhood</th>\n      <th>Assault_AVG</th>\n      <th>AutoTheft_AVG</th>\n      <th>BreakandEnter_AVG</th>\n      <th>Robbery_AVG</th>\n      <th>TheftOver_AVG</th>\n      <th>Homicide_AVG</th>\n      <th>Avg Crime</th>\n    </tr>\n  </thead>\n  <tbody>\n    <tr>\n      <td>0</td>\n      <td>Yonge-St.Clair</td>\n      <td>50.8</td>\n      <td>39.4</td>\n      <td>25.6</td>\n      <td>18.2</td>\n      <td>4.4</td>\n      <td>0.0</td>\n      <td>23.07</td>\n    </tr>\n    <tr>\n      <td>1</td>\n      <td>York University Heights</td>\n      <td>109.6</td>\n      <td>15.8</td>\n      <td>49.8</td>\n      <td>23.8</td>\n      <td>3.8</td>\n      <td>1.3</td>\n      <td>34.02</td>\n    </tr>\n    <tr>\n      <td>2</td>\n      <td>Lansing-Westgate</td>\n      <td>213.0</td>\n      <td>25.4</td>\n      <td>63.6</td>\n      <td>53.4</td>\n      <td>5.4</td>\n      <td>0.0</td>\n      <td>60.13</td>\n    </tr>\n  </tbody>\n</table>\n</div>"
                    }, 
                    "metadata": {}
                }
            ], 
            "metadata": {}
        }, 
        {
            "execution_count": 28, 
            "cell_type": "code", 
            "source": "NC_df.shape", 
            "outputs": [
                {
                    "execution_count": 28, 
                    "output_type": "execute_result", 
                    "data": {
                        "text/plain": "(140, 8)"
                    }, 
                    "metadata": {}
                }
            ], 
            "metadata": {}
        }, 
        {
            "execution_count": 29, 
            "cell_type": "code", 
            "source": "# Keeping only 2 columns\nNC_df.drop(NC_df.columns[[1,2,3,4,5,6]], axis=1 ,inplace=True)\nNC_df.head(3)", 
            "outputs": [
                {
                    "execution_count": 29, 
                    "output_type": "execute_result", 
                    "data": {
                        "text/plain": "             Neighbourhood  Avg Crime\n0           Yonge-St.Clair      23.07\n1  York University Heights      34.02\n2         Lansing-Westgate      60.13", 
                        "text/html": "<div>\n<style scoped>\n    .dataframe tbody tr th:only-of-type {\n        vertical-align: middle;\n    }\n\n    .dataframe tbody tr th {\n        vertical-align: top;\n    }\n\n    .dataframe thead th {\n        text-align: right;\n    }\n</style>\n<table border=\"1\" class=\"dataframe\">\n  <thead>\n    <tr style=\"text-align: right;\">\n      <th></th>\n      <th>Neighbourhood</th>\n      <th>Avg Crime</th>\n    </tr>\n  </thead>\n  <tbody>\n    <tr>\n      <td>0</td>\n      <td>Yonge-St.Clair</td>\n      <td>23.07</td>\n    </tr>\n    <tr>\n      <td>1</td>\n      <td>York University Heights</td>\n      <td>34.02</td>\n    </tr>\n    <tr>\n      <td>2</td>\n      <td>Lansing-Westgate</td>\n      <td>60.13</td>\n    </tr>\n  </tbody>\n</table>\n</div>"
                    }, 
                    "metadata": {}
                }
            ], 
            "metadata": {}
        }, 
        {
            "execution_count": null, 
            "cell_type": "code", 
            "source": "", 
            "outputs": [], 
            "metadata": {}
        }, 
        {
            "execution_count": null, 
            "cell_type": "code", 
            "source": "", 
            "outputs": [], 
            "metadata": {}
        }, 
        {
            "execution_count": 30, 
            "cell_type": "code", 
            "source": "# Spliting the Neighbourhood names by '-' & '/' to remove old names or alternate names of neighbourhoods\n\nlt=[]\nk = NC_df['Neighbourhood'].str.split('-|/')\n\nk[:][0]\nfor itr,v in enumerate(k):\n    #print(itr)\n    #print(v[0])\n    lt.append(v[0].strip())\n   \n    #k.str.replace('West', '')\n\nNC_df['Neighbourhood']=pd.DataFrame(lt, columns=['Neighbourhood'])\nNC_df.head()", 
            "outputs": [
                {
                    "execution_count": 30, 
                    "output_type": "execute_result", 
                    "data": {
                        "text/plain": "             Neighbourhood  Avg Crime\n0                    Yonge      23.07\n1  York University Heights      34.02\n2                  Lansing      60.13\n3                 Yorkdale      43.03\n4                Stonegate      37.40", 
                        "text/html": "<div>\n<style scoped>\n    .dataframe tbody tr th:only-of-type {\n        vertical-align: middle;\n    }\n\n    .dataframe tbody tr th {\n        vertical-align: top;\n    }\n\n    .dataframe thead th {\n        text-align: right;\n    }\n</style>\n<table border=\"1\" class=\"dataframe\">\n  <thead>\n    <tr style=\"text-align: right;\">\n      <th></th>\n      <th>Neighbourhood</th>\n      <th>Avg Crime</th>\n    </tr>\n  </thead>\n  <tbody>\n    <tr>\n      <td>0</td>\n      <td>Yonge</td>\n      <td>23.07</td>\n    </tr>\n    <tr>\n      <td>1</td>\n      <td>York University Heights</td>\n      <td>34.02</td>\n    </tr>\n    <tr>\n      <td>2</td>\n      <td>Lansing</td>\n      <td>60.13</td>\n    </tr>\n    <tr>\n      <td>3</td>\n      <td>Yorkdale</td>\n      <td>43.03</td>\n    </tr>\n    <tr>\n      <td>4</td>\n      <td>Stonegate</td>\n      <td>37.40</td>\n    </tr>\n  </tbody>\n</table>\n</div>"
                    }, 
                    "metadata": {}
                }
            ], 
            "metadata": {}
        }, 
        {
            "execution_count": 31, 
            "cell_type": "code", 
            "source": "NC_df['Neighbourhood'] = NC_df['Neighbourhood'].str.replace('The', '')\nNC_df['Neighbourhood'] = NC_df['Neighbourhood'].str.replace('North', '')\nNC_df['Neighbourhood'] = NC_df['Neighbourhood'].str.replace('South', '')\nNC_df['Neighbourhood'] = NC_df['Neighbourhood'].str.replace('East', '')\nNC_df['Neighbourhood'] = NC_df['Neighbourhood'].str.replace('West', '')\nNC_df['Neighbourhood'] = [tmp.strip() for tmp in NC_df['Neighbourhood']]", 
            "outputs": [], 
            "metadata": {}
        }, 
        {
            "execution_count": 32, 
            "cell_type": "code", 
            "source": "NC_df.head()", 
            "outputs": [
                {
                    "execution_count": 32, 
                    "output_type": "execute_result", 
                    "data": {
                        "text/plain": "             Neighbourhood  Avg Crime\n0                    Yonge      23.07\n1  York University Heights      34.02\n2                  Lansing      60.13\n3                 Yorkdale      43.03\n4                Stonegate      37.40", 
                        "text/html": "<div>\n<style scoped>\n    .dataframe tbody tr th:only-of-type {\n        vertical-align: middle;\n    }\n\n    .dataframe tbody tr th {\n        vertical-align: top;\n    }\n\n    .dataframe thead th {\n        text-align: right;\n    }\n</style>\n<table border=\"1\" class=\"dataframe\">\n  <thead>\n    <tr style=\"text-align: right;\">\n      <th></th>\n      <th>Neighbourhood</th>\n      <th>Avg Crime</th>\n    </tr>\n  </thead>\n  <tbody>\n    <tr>\n      <td>0</td>\n      <td>Yonge</td>\n      <td>23.07</td>\n    </tr>\n    <tr>\n      <td>1</td>\n      <td>York University Heights</td>\n      <td>34.02</td>\n    </tr>\n    <tr>\n      <td>2</td>\n      <td>Lansing</td>\n      <td>60.13</td>\n    </tr>\n    <tr>\n      <td>3</td>\n      <td>Yorkdale</td>\n      <td>43.03</td>\n    </tr>\n    <tr>\n      <td>4</td>\n      <td>Stonegate</td>\n      <td>37.40</td>\n    </tr>\n  </tbody>\n</table>\n</div>"
                    }, 
                    "metadata": {}
                }
            ], 
            "metadata": {}
        }, 
        {
            "execution_count": 33, 
            "cell_type": "code", 
            "source": "NC_df.shape", 
            "outputs": [
                {
                    "execution_count": 33, 
                    "output_type": "execute_result", 
                    "data": {
                        "text/plain": "(140, 2)"
                    }, 
                    "metadata": {}
                }
            ], 
            "metadata": {}
        }, 
        {
            "execution_count": null, 
            "cell_type": "code", 
            "source": "", 
            "outputs": [], 
            "metadata": {}
        }, 
        {
            "execution_count": 34, 
            "cell_type": "code", 
            "source": "NC_df.to_csv('CS_CrimeData.csv', index=False)", 
            "outputs": [], 
            "metadata": {}
        }, 
        {
            "execution_count": null, 
            "cell_type": "code", 
            "source": "", 
            "outputs": [], 
            "metadata": {}
        }, 
        {
            "execution_count": null, 
            "cell_type": "code", 
            "source": "", 
            "outputs": [], 
            "metadata": {}
        }
    ], 
    "nbformat": 4, 
    "metadata": {
        "kernelspec": {
            "display_name": "Python", 
            "name": "conda-env-python-py", 
            "language": "python"
        }, 
        "language_info": {
            "mimetype": "text/x-python", 
            "nbconvert_exporter": "python", 
            "version": "3.6.7", 
            "name": "python", 
            "file_extension": ".py", 
            "pygments_lexer": "ipython3", 
            "codemirror_mode": {
                "version": 3, 
                "name": "ipython"
            }
        }
    }
}